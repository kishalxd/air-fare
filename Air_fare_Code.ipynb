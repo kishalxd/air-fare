{
  "cells": [
    {
      "cell_type": "markdown",
      "metadata": {
        "id": "view-in-github",
        "colab_type": "text"
      },
      "source": [
        "<a href=\"https://colab.research.google.com/github/kishalxd/air-fare/blob/main/Air_fare_Code.ipynb\" target=\"_parent\"><img src=\"https://colab.research.google.com/assets/colab-badge.svg\" alt=\"Open In Colab\"/></a>"
      ]
    },
    {
      "cell_type": "markdown",
      "id": "353a2f31",
      "metadata": {
        "id": "353a2f31"
      },
      "source": [
        "# Importing Libraries"
      ]
    },
    {
      "cell_type": "code",
      "execution_count": null,
      "id": "5e0ac150",
      "metadata": {
        "id": "5e0ac150"
      },
      "outputs": [],
      "source": [
        "import numpy as np\n",
        "import pandas as pd\n",
        "import matplotlib.pyplot as plt\n",
        "\n",
        "%matplotlib inline"
      ]
    },
    {
      "cell_type": "markdown",
      "id": "5564bdcb",
      "metadata": {
        "id": "5564bdcb"
      },
      "source": [
        "# Importing DataSet"
      ]
    },
    {
      "cell_type": "code",
      "execution_count": null,
      "id": "68426f12",
      "metadata": {
        "id": "68426f12"
      },
      "outputs": [],
      "source": [
        "dataset=pd.read_excel(\"Data_Train.xlsx\")"
      ]
    },
    {
      "cell_type": "code",
      "execution_count": null,
      "id": "fad8dd52",
      "metadata": {
        "id": "fad8dd52"
      },
      "outputs": [],
      "source": [
        "df = pd.DataFrame(dataset)\n"
      ]
    },
    {
      "cell_type": "code",
      "execution_count": null,
      "id": "c5db1193",
      "metadata": {
        "id": "c5db1193",
        "outputId": "f7e489c4-da4d-4cd9-b3ef-85d69a81630f"
      },
      "outputs": [
        {
          "output_type": "execute_result",
          "data": {
            "text/plain": [
              "       Airline Date_of_Journey    Source Destination                  Route  \\\n",
              "0       IndiGo      24/03/2019  Banglore   New Delhi              BLR → DEL   \n",
              "1    Air India       1/05/2019   Kolkata    Banglore  CCU → IXR → BBI → BLR   \n",
              "2  Jet Airways       9/06/2019     Delhi      Cochin  DEL → LKO → BOM → COK   \n",
              "3       IndiGo      12/05/2019   Kolkata    Banglore        CCU → NAG → BLR   \n",
              "4       IndiGo      01/03/2019  Banglore   New Delhi        BLR → NAG → DEL   \n",
              "\n",
              "  Dep_Time  Arrival_Time Duration Total_Stops Additional_Info  Price  \n",
              "0    22:20  01:10 22 Mar   2h 50m    non-stop         No info   3897  \n",
              "1    05:50         13:15   7h 25m     2 stops         No info   7662  \n",
              "2    09:25  04:25 10 Jun      19h     2 stops         No info  13882  \n",
              "3    18:05         23:30   5h 25m      1 stop         No info   6218  \n",
              "4    16:50         21:35   4h 45m      1 stop         No info  13302  "
            ],
            "text/html": "<div>\n<style scoped>\n    .dataframe tbody tr th:only-of-type {\n        vertical-align: middle;\n    }\n\n    .dataframe tbody tr th {\n        vertical-align: top;\n    }\n\n    .dataframe thead th {\n        text-align: right;\n    }\n</style>\n<table border=\"1\" class=\"dataframe\">\n  <thead>\n    <tr style=\"text-align: right;\">\n      <th></th>\n      <th>Airline</th>\n      <th>Date_of_Journey</th>\n      <th>Source</th>\n      <th>Destination</th>\n      <th>Route</th>\n      <th>Dep_Time</th>\n      <th>Arrival_Time</th>\n      <th>Duration</th>\n      <th>Total_Stops</th>\n      <th>Additional_Info</th>\n      <th>Price</th>\n    </tr>\n  </thead>\n  <tbody>\n    <tr>\n      <th>0</th>\n      <td>IndiGo</td>\n      <td>24/03/2019</td>\n      <td>Banglore</td>\n      <td>New Delhi</td>\n      <td>BLR → DEL</td>\n      <td>22:20</td>\n      <td>01:10 22 Mar</td>\n      <td>2h 50m</td>\n      <td>non-stop</td>\n      <td>No info</td>\n      <td>3897</td>\n    </tr>\n    <tr>\n      <th>1</th>\n      <td>Air India</td>\n      <td>1/05/2019</td>\n      <td>Kolkata</td>\n      <td>Banglore</td>\n      <td>CCU → IXR → BBI → BLR</td>\n      <td>05:50</td>\n      <td>13:15</td>\n      <td>7h 25m</td>\n      <td>2 stops</td>\n      <td>No info</td>\n      <td>7662</td>\n    </tr>\n    <tr>\n      <th>2</th>\n      <td>Jet Airways</td>\n      <td>9/06/2019</td>\n      <td>Delhi</td>\n      <td>Cochin</td>\n      <td>DEL → LKO → BOM → COK</td>\n      <td>09:25</td>\n      <td>04:25 10 Jun</td>\n      <td>19h</td>\n      <td>2 stops</td>\n      <td>No info</td>\n      <td>13882</td>\n    </tr>\n    <tr>\n      <th>3</th>\n      <td>IndiGo</td>\n      <td>12/05/2019</td>\n      <td>Kolkata</td>\n      <td>Banglore</td>\n      <td>CCU → NAG → BLR</td>\n      <td>18:05</td>\n      <td>23:30</td>\n      <td>5h 25m</td>\n      <td>1 stop</td>\n      <td>No info</td>\n      <td>6218</td>\n    </tr>\n    <tr>\n      <th>4</th>\n      <td>IndiGo</td>\n      <td>01/03/2019</td>\n      <td>Banglore</td>\n      <td>New Delhi</td>\n      <td>BLR → NAG → DEL</td>\n      <td>16:50</td>\n      <td>21:35</td>\n      <td>4h 45m</td>\n      <td>1 stop</td>\n      <td>No info</td>\n      <td>13302</td>\n    </tr>\n  </tbody>\n</table>\n</div>"
          },
          "metadata": {},
          "execution_count": 4
        }
      ],
      "source": [
        "df.head()"
      ]
    },
    {
      "cell_type": "markdown",
      "id": "6e9577dc",
      "metadata": {
        "id": "6e9577dc"
      },
      "source": [
        "# Data Preprocessing "
      ]
    },
    {
      "cell_type": "code",
      "execution_count": null,
      "id": "b8523988",
      "metadata": {
        "id": "b8523988",
        "outputId": "26fda435-4ea5-453c-f072-9bf2f6bef832"
      },
      "outputs": [
        {
          "output_type": "execute_result",
          "data": {
            "text/plain": [
              "(10683, 11)"
            ]
          },
          "metadata": {},
          "execution_count": 5
        }
      ],
      "source": [
        "df.shape"
      ]
    },
    {
      "cell_type": "code",
      "execution_count": null,
      "id": "e808d9ce",
      "metadata": {
        "id": "e808d9ce",
        "outputId": "5344fd23-f5b8-4f94-e5b8-c5f2b02fd20c"
      },
      "outputs": [
        {
          "output_type": "execute_result",
          "data": {
            "text/plain": [
              "Airline            0\n",
              "Date_of_Journey    0\n",
              "Source             0\n",
              "Destination        0\n",
              "Route              1\n",
              "Dep_Time           0\n",
              "Arrival_Time       0\n",
              "Duration           0\n",
              "Total_Stops        1\n",
              "Additional_Info    0\n",
              "Price              0\n",
              "dtype: int64"
            ]
          },
          "metadata": {},
          "execution_count": 6
        }
      ],
      "source": [
        "df.isnull().sum()"
      ]
    },
    {
      "cell_type": "code",
      "execution_count": null,
      "id": "8f641ad0",
      "metadata": {
        "id": "8f641ad0"
      },
      "outputs": [],
      "source": [
        "#removing Null value rows\n",
        "dataset.dropna(inplace= True)\n",
        "df = pd.DataFrame(dataset)"
      ]
    },
    {
      "cell_type": "code",
      "execution_count": null,
      "id": "f1fcc796",
      "metadata": {
        "id": "f1fcc796",
        "outputId": "25072a5b-2a2b-4291-abac-bb61facc9a45"
      },
      "outputs": [
        {
          "output_type": "execute_result",
          "data": {
            "text/plain": [
              "No info                         8344\n",
              "In-flight meal not included     1982\n",
              "No check-in baggage included     320\n",
              "1 Long layover                    19\n",
              "Change airports                    7\n",
              "Business class                     4\n",
              "No Info                            3\n",
              "2 Long layover                     1\n",
              "1 Short layover                    1\n",
              "Red-eye flight                     1\n",
              "Name: Additional_Info, dtype: int64"
            ]
          },
          "metadata": {},
          "execution_count": 8
        }
      ],
      "source": [
        "df['Additional_Info'].value_counts()\n"
      ]
    },
    {
      "cell_type": "code",
      "execution_count": null,
      "id": "c5d4d02b",
      "metadata": {
        "id": "c5d4d02b"
      },
      "outputs": [],
      "source": [
        "#removing Unnecessary columns\n",
        "df.drop(columns= [\"Additional_Info\"], inplace =True ,axis=1)\n",
        "df.drop(columns= [\"Route\"], inplace =True ,axis=1)"
      ]
    },
    {
      "cell_type": "code",
      "execution_count": null,
      "id": "c5c308e7",
      "metadata": {
        "id": "c5c308e7",
        "outputId": "8264904c-9d58-4a3c-ad5e-fe98fad0d73a"
      },
      "outputs": [
        {
          "output_type": "execute_result",
          "data": {
            "text/plain": [
              "Index(['Airline', 'Date_of_Journey', 'Source', 'Destination', 'Dep_Time',\n",
              "       'Arrival_Time', 'Duration', 'Total_Stops', 'Price'],\n",
              "      dtype='object')"
            ]
          },
          "metadata": {},
          "execution_count": 10
        }
      ],
      "source": [
        "df.columns"
      ]
    },
    {
      "cell_type": "code",
      "execution_count": null,
      "id": "a1ebb63d",
      "metadata": {
        "id": "a1ebb63d"
      },
      "outputs": [],
      "source": [
        "#Converting the Date_of_Journey column to datetime object followed by exctraction of date and month\n",
        "df['Date_of_Journey'] = pd.to_datetime(df['Date_of_Journey'])\n"
      ]
    },
    {
      "cell_type": "code",
      "execution_count": null,
      "id": "d0f2a37c",
      "metadata": {
        "id": "d0f2a37c",
        "outputId": "84dbffc0-9f73-4b99-860e-82457e3a2a29"
      },
      "outputs": [
        {
          "output_type": "stream",
          "name": "stdout",
          "text": [
            "datetime64[ns]\n"
          ]
        }
      ],
      "source": [
        "print (df['Date_of_Journey'].dtype)"
      ]
    },
    {
      "cell_type": "code",
      "execution_count": null,
      "id": "b0d2e8ca",
      "metadata": {
        "id": "b0d2e8ca"
      },
      "outputs": [],
      "source": [
        "df['month'] = df['Date_of_Journey'].dt.month\n",
        "df['day'] = df['Date_of_Journey'].dt.day\n",
        "df.drop(columns = {\"Date_of_Journey\"}, inplace= True, axis=1)\n",
        "df.drop(columns = {'Arrival_Time'}, inplace = True, axis=1)"
      ]
    },
    {
      "cell_type": "code",
      "execution_count": null,
      "id": "12d01ee1",
      "metadata": {
        "id": "12d01ee1",
        "outputId": "c37f0416-1c2f-4862-ef0f-c8e84278000b"
      },
      "outputs": [
        {
          "output_type": "execute_result",
          "data": {
            "text/plain": [
              "       Airline    Source Destination Dep_Time Duration Total_Stops  Price  \\\n",
              "0       IndiGo  Banglore   New Delhi    22:20   2h 50m    non-stop   3897   \n",
              "1    Air India   Kolkata    Banglore    05:50   7h 25m     2 stops   7662   \n",
              "2  Jet Airways     Delhi      Cochin    09:25      19h     2 stops  13882   \n",
              "3       IndiGo   Kolkata    Banglore    18:05   5h 25m      1 stop   6218   \n",
              "4       IndiGo  Banglore   New Delhi    16:50   4h 45m      1 stop  13302   \n",
              "\n",
              "   month  day  \n",
              "0      3   24  \n",
              "1      1    5  \n",
              "2      9    6  \n",
              "3     12    5  \n",
              "4      1    3  "
            ],
            "text/html": "<div>\n<style scoped>\n    .dataframe tbody tr th:only-of-type {\n        vertical-align: middle;\n    }\n\n    .dataframe tbody tr th {\n        vertical-align: top;\n    }\n\n    .dataframe thead th {\n        text-align: right;\n    }\n</style>\n<table border=\"1\" class=\"dataframe\">\n  <thead>\n    <tr style=\"text-align: right;\">\n      <th></th>\n      <th>Airline</th>\n      <th>Source</th>\n      <th>Destination</th>\n      <th>Dep_Time</th>\n      <th>Duration</th>\n      <th>Total_Stops</th>\n      <th>Price</th>\n      <th>month</th>\n      <th>day</th>\n    </tr>\n  </thead>\n  <tbody>\n    <tr>\n      <th>0</th>\n      <td>IndiGo</td>\n      <td>Banglore</td>\n      <td>New Delhi</td>\n      <td>22:20</td>\n      <td>2h 50m</td>\n      <td>non-stop</td>\n      <td>3897</td>\n      <td>3</td>\n      <td>24</td>\n    </tr>\n    <tr>\n      <th>1</th>\n      <td>Air India</td>\n      <td>Kolkata</td>\n      <td>Banglore</td>\n      <td>05:50</td>\n      <td>7h 25m</td>\n      <td>2 stops</td>\n      <td>7662</td>\n      <td>1</td>\n      <td>5</td>\n    </tr>\n    <tr>\n      <th>2</th>\n      <td>Jet Airways</td>\n      <td>Delhi</td>\n      <td>Cochin</td>\n      <td>09:25</td>\n      <td>19h</td>\n      <td>2 stops</td>\n      <td>13882</td>\n      <td>9</td>\n      <td>6</td>\n    </tr>\n    <tr>\n      <th>3</th>\n      <td>IndiGo</td>\n      <td>Kolkata</td>\n      <td>Banglore</td>\n      <td>18:05</td>\n      <td>5h 25m</td>\n      <td>1 stop</td>\n      <td>6218</td>\n      <td>12</td>\n      <td>5</td>\n    </tr>\n    <tr>\n      <th>4</th>\n      <td>IndiGo</td>\n      <td>Banglore</td>\n      <td>New Delhi</td>\n      <td>16:50</td>\n      <td>4h 45m</td>\n      <td>1 stop</td>\n      <td>13302</td>\n      <td>1</td>\n      <td>3</td>\n    </tr>\n  </tbody>\n</table>\n</div>"
          },
          "metadata": {},
          "execution_count": 14
        }
      ],
      "source": [
        "df.head()"
      ]
    },
    {
      "cell_type": "code",
      "execution_count": null,
      "id": "dd86d672",
      "metadata": {
        "id": "dd86d672",
        "outputId": "c38b05af-412e-4b34-bbf5-e55e50c7c928"
      },
      "outputs": [
        {
          "output_type": "execute_result",
          "data": {
            "text/plain": [
              "1 stop      5625\n",
              "non-stop    3491\n",
              "2 stops     1520\n",
              "3 stops       45\n",
              "4 stops        1\n",
              "Name: Total_Stops, dtype: int64"
            ]
          },
          "metadata": {},
          "execution_count": 15
        }
      ],
      "source": [
        "df['Total_Stops'].value_counts()"
      ]
    },
    {
      "cell_type": "code",
      "execution_count": null,
      "id": "6b7068f8",
      "metadata": {
        "id": "6b7068f8"
      },
      "outputs": [],
      "source": [
        "# Replacing the Total_Stops columns to numeric data\n",
        "df['Total_Stops'] = df['Total_Stops'].replace(['non-stop'],'0')\n",
        "df['Total_Stops'] = df['Total_Stops'].replace(['1 stop'],'1')\n",
        "df['Total_Stops'] = df['Total_Stops'].replace(['2 stops'],'2')\n",
        "df['Total_Stops'] = df['Total_Stops'].replace(['3 stops'],'3')\n",
        "df['Total_Stops'] = df['Total_Stops'].replace(['4 stops'],'4')"
      ]
    },
    {
      "cell_type": "code",
      "execution_count": null,
      "id": "9163b9a0",
      "metadata": {
        "id": "9163b9a0",
        "outputId": "e68708f3-a1ce-4044-e442-01dbe2310a8c"
      },
      "outputs": [
        {
          "output_type": "execute_result",
          "data": {
            "text/plain": [
              "       Airline    Source Destination Dep_Time Duration Total_Stops  Price  \\\n",
              "0       IndiGo  Banglore   New Delhi    22:20   2h 50m           0   3897   \n",
              "1    Air India   Kolkata    Banglore    05:50   7h 25m           2   7662   \n",
              "2  Jet Airways     Delhi      Cochin    09:25      19h           2  13882   \n",
              "3       IndiGo   Kolkata    Banglore    18:05   5h 25m           1   6218   \n",
              "4       IndiGo  Banglore   New Delhi    16:50   4h 45m           1  13302   \n",
              "\n",
              "   month  day  \n",
              "0      3   24  \n",
              "1      1    5  \n",
              "2      9    6  \n",
              "3     12    5  \n",
              "4      1    3  "
            ],
            "text/html": "<div>\n<style scoped>\n    .dataframe tbody tr th:only-of-type {\n        vertical-align: middle;\n    }\n\n    .dataframe tbody tr th {\n        vertical-align: top;\n    }\n\n    .dataframe thead th {\n        text-align: right;\n    }\n</style>\n<table border=\"1\" class=\"dataframe\">\n  <thead>\n    <tr style=\"text-align: right;\">\n      <th></th>\n      <th>Airline</th>\n      <th>Source</th>\n      <th>Destination</th>\n      <th>Dep_Time</th>\n      <th>Duration</th>\n      <th>Total_Stops</th>\n      <th>Price</th>\n      <th>month</th>\n      <th>day</th>\n    </tr>\n  </thead>\n  <tbody>\n    <tr>\n      <th>0</th>\n      <td>IndiGo</td>\n      <td>Banglore</td>\n      <td>New Delhi</td>\n      <td>22:20</td>\n      <td>2h 50m</td>\n      <td>0</td>\n      <td>3897</td>\n      <td>3</td>\n      <td>24</td>\n    </tr>\n    <tr>\n      <th>1</th>\n      <td>Air India</td>\n      <td>Kolkata</td>\n      <td>Banglore</td>\n      <td>05:50</td>\n      <td>7h 25m</td>\n      <td>2</td>\n      <td>7662</td>\n      <td>1</td>\n      <td>5</td>\n    </tr>\n    <tr>\n      <th>2</th>\n      <td>Jet Airways</td>\n      <td>Delhi</td>\n      <td>Cochin</td>\n      <td>09:25</td>\n      <td>19h</td>\n      <td>2</td>\n      <td>13882</td>\n      <td>9</td>\n      <td>6</td>\n    </tr>\n    <tr>\n      <th>3</th>\n      <td>IndiGo</td>\n      <td>Kolkata</td>\n      <td>Banglore</td>\n      <td>18:05</td>\n      <td>5h 25m</td>\n      <td>1</td>\n      <td>6218</td>\n      <td>12</td>\n      <td>5</td>\n    </tr>\n    <tr>\n      <th>4</th>\n      <td>IndiGo</td>\n      <td>Banglore</td>\n      <td>New Delhi</td>\n      <td>16:50</td>\n      <td>4h 45m</td>\n      <td>1</td>\n      <td>13302</td>\n      <td>1</td>\n      <td>3</td>\n    </tr>\n  </tbody>\n</table>\n</div>"
          },
          "metadata": {},
          "execution_count": 17
        }
      ],
      "source": [
        "df.head()"
      ]
    },
    {
      "cell_type": "code",
      "execution_count": null,
      "id": "41eee813",
      "metadata": {
        "id": "41eee813"
      },
      "outputs": [],
      "source": [
        "#Rounding off the Dep_Time Column to only hours\n",
        "time = pd.DatetimeIndex(df['Dep_Time'])"
      ]
    },
    {
      "cell_type": "code",
      "execution_count": null,
      "id": "f78b262a",
      "metadata": {
        "id": "f78b262a"
      },
      "outputs": [],
      "source": [
        "mn=time.minute\n",
        "hr=time.hour"
      ]
    },
    {
      "cell_type": "code",
      "execution_count": null,
      "id": "3a68e306",
      "metadata": {
        "id": "3a68e306"
      },
      "outputs": [],
      "source": [
        "k =0\n",
        "hour=([])\n",
        "for m in mn:\n",
        "    if m>=30:\n",
        "        x = 1 + hr[k]\n",
        "    else:\n",
        "        x=hr[k]\n",
        "    \n",
        "    if x>=24:\n",
        "        x=x-24\n",
        "    hour.append(x)\n",
        "    k +=1"
      ]
    },
    {
      "cell_type": "code",
      "execution_count": null,
      "id": "2f2ef76c",
      "metadata": {
        "id": "2f2ef76c"
      },
      "outputs": [],
      "source": [
        "df['Dep_Hour']=hour\n",
        "df.drop(columns={\"Dep_Time\"}, inplace= True, axis=1)\n"
      ]
    },
    {
      "cell_type": "code",
      "execution_count": null,
      "id": "02533cf5",
      "metadata": {
        "id": "02533cf5",
        "outputId": "01e7d2d4-bd7e-400c-92e0-8d6489378532"
      },
      "outputs": [
        {
          "output_type": "execute_result",
          "data": {
            "text/plain": [
              "       Airline    Source Destination Duration Total_Stops  Price  month  day  \\\n",
              "0       IndiGo  Banglore   New Delhi   2h 50m           0   3897      3   24   \n",
              "1    Air India   Kolkata    Banglore   7h 25m           2   7662      1    5   \n",
              "2  Jet Airways     Delhi      Cochin      19h           2  13882      9    6   \n",
              "3       IndiGo   Kolkata    Banglore   5h 25m           1   6218     12    5   \n",
              "4       IndiGo  Banglore   New Delhi   4h 45m           1  13302      1    3   \n",
              "\n",
              "   Dep_Hour  \n",
              "0        22  \n",
              "1         6  \n",
              "2         9  \n",
              "3        18  \n",
              "4        17  "
            ],
            "text/html": "<div>\n<style scoped>\n    .dataframe tbody tr th:only-of-type {\n        vertical-align: middle;\n    }\n\n    .dataframe tbody tr th {\n        vertical-align: top;\n    }\n\n    .dataframe thead th {\n        text-align: right;\n    }\n</style>\n<table border=\"1\" class=\"dataframe\">\n  <thead>\n    <tr style=\"text-align: right;\">\n      <th></th>\n      <th>Airline</th>\n      <th>Source</th>\n      <th>Destination</th>\n      <th>Duration</th>\n      <th>Total_Stops</th>\n      <th>Price</th>\n      <th>month</th>\n      <th>day</th>\n      <th>Dep_Hour</th>\n    </tr>\n  </thead>\n  <tbody>\n    <tr>\n      <th>0</th>\n      <td>IndiGo</td>\n      <td>Banglore</td>\n      <td>New Delhi</td>\n      <td>2h 50m</td>\n      <td>0</td>\n      <td>3897</td>\n      <td>3</td>\n      <td>24</td>\n      <td>22</td>\n    </tr>\n    <tr>\n      <th>1</th>\n      <td>Air India</td>\n      <td>Kolkata</td>\n      <td>Banglore</td>\n      <td>7h 25m</td>\n      <td>2</td>\n      <td>7662</td>\n      <td>1</td>\n      <td>5</td>\n      <td>6</td>\n    </tr>\n    <tr>\n      <th>2</th>\n      <td>Jet Airways</td>\n      <td>Delhi</td>\n      <td>Cochin</td>\n      <td>19h</td>\n      <td>2</td>\n      <td>13882</td>\n      <td>9</td>\n      <td>6</td>\n      <td>9</td>\n    </tr>\n    <tr>\n      <th>3</th>\n      <td>IndiGo</td>\n      <td>Kolkata</td>\n      <td>Banglore</td>\n      <td>5h 25m</td>\n      <td>1</td>\n      <td>6218</td>\n      <td>12</td>\n      <td>5</td>\n      <td>18</td>\n    </tr>\n    <tr>\n      <th>4</th>\n      <td>IndiGo</td>\n      <td>Banglore</td>\n      <td>New Delhi</td>\n      <td>4h 45m</td>\n      <td>1</td>\n      <td>13302</td>\n      <td>1</td>\n      <td>3</td>\n      <td>17</td>\n    </tr>\n  </tbody>\n</table>\n</div>"
          },
          "metadata": {},
          "execution_count": 22
        }
      ],
      "source": [
        "df.head()"
      ]
    },
    {
      "cell_type": "code",
      "execution_count": null,
      "id": "5e61a3b2",
      "metadata": {
        "id": "5e61a3b2"
      },
      "outputs": [],
      "source": [
        "duration=df[\"Duration\"]\n",
        "duration = list(duration)\n",
        "for i in range(len(duration)):\n",
        "  if (len(duration[i].split()) !=2):\n",
        "    if \"h\" in duration[i]:\n",
        "      duration[i]=duration[i]+ \" 0m\"\n",
        "    else:\n",
        "      duration[i]= \"0h \"+ duration[i]\n",
        "\n"
      ]
    },
    {
      "cell_type": "code",
      "execution_count": null,
      "id": "9985eca1",
      "metadata": {
        "id": "9985eca1"
      },
      "outputs": [],
      "source": [
        "#extracting the duration in hours and mins and converting it to floating value of hours\n",
        "duration_hours=[]\n",
        "duration_mins=[]\n",
        "\n",
        "for i in range(len(duration)):\n",
        "  duration_hours.append(duration[i].split(sep='h')[0])\n",
        "  duration_mins.append(duration[i].split(sep=' ')[-1].split(sep='m')[0])\n",
        "\n"
      ]
    },
    {
      "cell_type": "code",
      "execution_count": null,
      "id": "cd09083c",
      "metadata": {
        "id": "cd09083c"
      },
      "outputs": [],
      "source": [
        "k=0\n",
        "x=[None]*len(duration_hours)\n",
        "for hr in duration_hours:\n",
        "    x[k]=(int(hr)*60+int(duration_mins[k]))\n",
        "    k=k+1"
      ]
    },
    {
      "cell_type": "code",
      "execution_count": null,
      "id": "a01b41d2",
      "metadata": {
        "id": "a01b41d2"
      },
      "outputs": [],
      "source": [
        "df['Duration']=x"
      ]
    },
    {
      "cell_type": "code",
      "execution_count": null,
      "id": "48723864",
      "metadata": {
        "id": "48723864",
        "outputId": "b295cdcd-3c0d-4d14-b47a-24a8cba9d339"
      },
      "outputs": [
        {
          "output_type": "execute_result",
          "data": {
            "text/plain": [
              "       Airline    Source Destination  Duration Total_Stops  Price  month  day  \\\n",
              "0       IndiGo  Banglore   New Delhi       170           0   3897      3   24   \n",
              "1    Air India   Kolkata    Banglore       445           2   7662      1    5   \n",
              "2  Jet Airways     Delhi      Cochin      1140           2  13882      9    6   \n",
              "3       IndiGo   Kolkata    Banglore       325           1   6218     12    5   \n",
              "4       IndiGo  Banglore   New Delhi       285           1  13302      1    3   \n",
              "\n",
              "   Dep_Hour  \n",
              "0        22  \n",
              "1         6  \n",
              "2         9  \n",
              "3        18  \n",
              "4        17  "
            ],
            "text/html": "<div>\n<style scoped>\n    .dataframe tbody tr th:only-of-type {\n        vertical-align: middle;\n    }\n\n    .dataframe tbody tr th {\n        vertical-align: top;\n    }\n\n    .dataframe thead th {\n        text-align: right;\n    }\n</style>\n<table border=\"1\" class=\"dataframe\">\n  <thead>\n    <tr style=\"text-align: right;\">\n      <th></th>\n      <th>Airline</th>\n      <th>Source</th>\n      <th>Destination</th>\n      <th>Duration</th>\n      <th>Total_Stops</th>\n      <th>Price</th>\n      <th>month</th>\n      <th>day</th>\n      <th>Dep_Hour</th>\n    </tr>\n  </thead>\n  <tbody>\n    <tr>\n      <th>0</th>\n      <td>IndiGo</td>\n      <td>Banglore</td>\n      <td>New Delhi</td>\n      <td>170</td>\n      <td>0</td>\n      <td>3897</td>\n      <td>3</td>\n      <td>24</td>\n      <td>22</td>\n    </tr>\n    <tr>\n      <th>1</th>\n      <td>Air India</td>\n      <td>Kolkata</td>\n      <td>Banglore</td>\n      <td>445</td>\n      <td>2</td>\n      <td>7662</td>\n      <td>1</td>\n      <td>5</td>\n      <td>6</td>\n    </tr>\n    <tr>\n      <th>2</th>\n      <td>Jet Airways</td>\n      <td>Delhi</td>\n      <td>Cochin</td>\n      <td>1140</td>\n      <td>2</td>\n      <td>13882</td>\n      <td>9</td>\n      <td>6</td>\n      <td>9</td>\n    </tr>\n    <tr>\n      <th>3</th>\n      <td>IndiGo</td>\n      <td>Kolkata</td>\n      <td>Banglore</td>\n      <td>325</td>\n      <td>1</td>\n      <td>6218</td>\n      <td>12</td>\n      <td>5</td>\n      <td>18</td>\n    </tr>\n    <tr>\n      <th>4</th>\n      <td>IndiGo</td>\n      <td>Banglore</td>\n      <td>New Delhi</td>\n      <td>285</td>\n      <td>1</td>\n      <td>13302</td>\n      <td>1</td>\n      <td>3</td>\n      <td>17</td>\n    </tr>\n  </tbody>\n</table>\n</div>"
          },
          "metadata": {},
          "execution_count": 27
        }
      ],
      "source": [
        "df.head()"
      ]
    },
    {
      "cell_type": "code",
      "execution_count": null,
      "id": "fbd06bda",
      "metadata": {
        "id": "fbd06bda",
        "outputId": "359cef8b-57a9-47ef-b112-f49f76454229"
      },
      "outputs": [
        {
          "output_type": "stream",
          "name": "stdout",
          "text": [
            "['Airline', 'Source', 'Destination', 'Duration', 'Total_Stops', 'Price', 'month', 'day', 'Dep_Hour']\n"
          ]
        }
      ],
      "source": [
        "print(df.columns.tolist())"
      ]
    },
    {
      "cell_type": "code",
      "execution_count": null,
      "id": "da2fe139",
      "metadata": {
        "id": "da2fe139"
      },
      "outputs": [],
      "source": [
        "# Reaggangement of Columns\n",
        "df=df[['Airline', 'Source', 'Destination', 'Duration', 'Total_Stops', 'month', 'day', 'Dep_Hour', 'Price']]"
      ]
    },
    {
      "cell_type": "code",
      "execution_count": null,
      "id": "5ebe673e",
      "metadata": {
        "id": "5ebe673e",
        "outputId": "c94fce14-a83f-4c2f-f2f0-822fbaa1a6f8"
      },
      "outputs": [
        {
          "output_type": "execute_result",
          "data": {
            "text/plain": [
              "       Airline    Source Destination  Duration Total_Stops  month  day  \\\n",
              "0       IndiGo  Banglore   New Delhi       170           0      3   24   \n",
              "1    Air India   Kolkata    Banglore       445           2      1    5   \n",
              "2  Jet Airways     Delhi      Cochin      1140           2      9    6   \n",
              "3       IndiGo   Kolkata    Banglore       325           1     12    5   \n",
              "4       IndiGo  Banglore   New Delhi       285           1      1    3   \n",
              "\n",
              "   Dep_Hour  Price  \n",
              "0        22   3897  \n",
              "1         6   7662  \n",
              "2         9  13882  \n",
              "3        18   6218  \n",
              "4        17  13302  "
            ],
            "text/html": "<div>\n<style scoped>\n    .dataframe tbody tr th:only-of-type {\n        vertical-align: middle;\n    }\n\n    .dataframe tbody tr th {\n        vertical-align: top;\n    }\n\n    .dataframe thead th {\n        text-align: right;\n    }\n</style>\n<table border=\"1\" class=\"dataframe\">\n  <thead>\n    <tr style=\"text-align: right;\">\n      <th></th>\n      <th>Airline</th>\n      <th>Source</th>\n      <th>Destination</th>\n      <th>Duration</th>\n      <th>Total_Stops</th>\n      <th>month</th>\n      <th>day</th>\n      <th>Dep_Hour</th>\n      <th>Price</th>\n    </tr>\n  </thead>\n  <tbody>\n    <tr>\n      <th>0</th>\n      <td>IndiGo</td>\n      <td>Banglore</td>\n      <td>New Delhi</td>\n      <td>170</td>\n      <td>0</td>\n      <td>3</td>\n      <td>24</td>\n      <td>22</td>\n      <td>3897</td>\n    </tr>\n    <tr>\n      <th>1</th>\n      <td>Air India</td>\n      <td>Kolkata</td>\n      <td>Banglore</td>\n      <td>445</td>\n      <td>2</td>\n      <td>1</td>\n      <td>5</td>\n      <td>6</td>\n      <td>7662</td>\n    </tr>\n    <tr>\n      <th>2</th>\n      <td>Jet Airways</td>\n      <td>Delhi</td>\n      <td>Cochin</td>\n      <td>1140</td>\n      <td>2</td>\n      <td>9</td>\n      <td>6</td>\n      <td>9</td>\n      <td>13882</td>\n    </tr>\n    <tr>\n      <th>3</th>\n      <td>IndiGo</td>\n      <td>Kolkata</td>\n      <td>Banglore</td>\n      <td>325</td>\n      <td>1</td>\n      <td>12</td>\n      <td>5</td>\n      <td>18</td>\n      <td>6218</td>\n    </tr>\n    <tr>\n      <th>4</th>\n      <td>IndiGo</td>\n      <td>Banglore</td>\n      <td>New Delhi</td>\n      <td>285</td>\n      <td>1</td>\n      <td>1</td>\n      <td>3</td>\n      <td>17</td>\n      <td>13302</td>\n    </tr>\n  </tbody>\n</table>\n</div>"
          },
          "metadata": {},
          "execution_count": 30
        }
      ],
      "source": [
        "df.head()"
      ]
    },
    {
      "cell_type": "code",
      "execution_count": null,
      "id": "3dc78803",
      "metadata": {
        "id": "3dc78803",
        "outputId": "e3d717e0-a3bd-4303-a8b0-30808e176be7"
      },
      "outputs": [
        {
          "output_type": "execute_result",
          "data": {
            "text/plain": [
              "Jet Airways                          3849\n",
              "IndiGo                               2053\n",
              "Air India                            1751\n",
              "Multiple carriers                    1196\n",
              "SpiceJet                              818\n",
              "Vistara                               479\n",
              "Air Asia                              319\n",
              "GoAir                                 194\n",
              "Multiple carriers Premium economy      13\n",
              "Jet Airways Business                    6\n",
              "Vistara Premium economy                 3\n",
              "Trujet                                  1\n",
              "Name: Airline, dtype: int64"
            ]
          },
          "metadata": {},
          "execution_count": 31
        }
      ],
      "source": [
        "df['Airline'].value_counts()"
      ]
    },
    {
      "cell_type": "code",
      "execution_count": null,
      "id": "737a5679",
      "metadata": {
        "id": "737a5679",
        "outputId": "8b52323d-38aa-41c8-f440-bebb49229807"
      },
      "outputs": [
        {
          "output_type": "execute_result",
          "data": {
            "text/plain": [
              "Delhi       4536\n",
              "Kolkata     2871\n",
              "Banglore    2197\n",
              "Mumbai       697\n",
              "Chennai      381\n",
              "Name: Source, dtype: int64"
            ]
          },
          "metadata": {},
          "execution_count": 32
        }
      ],
      "source": [
        "df['Source'].value_counts()"
      ]
    },
    {
      "cell_type": "code",
      "execution_count": null,
      "id": "a10070af",
      "metadata": {
        "id": "a10070af",
        "outputId": "6699a192-8d35-4475-cbd0-c3d9afc332fd"
      },
      "outputs": [
        {
          "output_type": "execute_result",
          "data": {
            "text/plain": [
              "Cochin       4536\n",
              "Banglore     2871\n",
              "Delhi        1265\n",
              "New Delhi     932\n",
              "Hyderabad     697\n",
              "Kolkata       381\n",
              "Name: Destination, dtype: int64"
            ]
          },
          "metadata": {},
          "execution_count": 33
        }
      ],
      "source": [
        "df['Destination'].value_counts()"
      ]
    },
    {
      "cell_type": "code",
      "execution_count": null,
      "id": "c163250e",
      "metadata": {
        "id": "c163250e",
        "outputId": "4eda7721-5bcc-4af9-f14e-6a92dda706aa"
      },
      "outputs": [
        {
          "output_type": "execute_result",
          "data": {
            "text/plain": [
              "(10682, 9)"
            ]
          },
          "metadata": {},
          "execution_count": 34
        }
      ],
      "source": [
        "df.shape"
      ]
    },
    {
      "cell_type": "code",
      "execution_count": null,
      "id": "e502c3df",
      "metadata": {
        "id": "e502c3df"
      },
      "outputs": [],
      "source": [
        "df['Destination'] = df['Destination'].replace(['New Delhi'],'Delhi')"
      ]
    },
    {
      "cell_type": "code",
      "execution_count": null,
      "id": "00e3d65f",
      "metadata": {
        "id": "00e3d65f",
        "outputId": "8288bf5e-cd6c-4e7b-9232-7f818fd24704"
      },
      "outputs": [
        {
          "output_type": "execute_result",
          "data": {
            "text/plain": [
              "Cochin       4536\n",
              "Banglore     2871\n",
              "Delhi        2197\n",
              "Hyderabad     697\n",
              "Kolkata       381\n",
              "Name: Destination, dtype: int64"
            ]
          },
          "metadata": {},
          "execution_count": 36
        }
      ],
      "source": [
        "df['Destination'].value_counts()"
      ]
    },
    {
      "cell_type": "code",
      "execution_count": null,
      "id": "8f3c878a",
      "metadata": {
        "id": "8f3c878a"
      },
      "outputs": [],
      "source": [
        "#Applying One hot encoding on columns=[\"Airline\", \"Source\", \"Destination\"]\n",
        "encoded_df=pd.get_dummies(data=df, columns=[\"Airline\", \"Source\", \"Destination\"], drop_first=True)"
      ]
    },
    {
      "cell_type": "code",
      "execution_count": null,
      "metadata": {
        "id": "5EOtU3-KGyEd"
      },
      "outputs": [],
      "source": [
        ""
      ],
      "id": "5EOtU3-KGyEd"
    },
    {
      "cell_type": "code",
      "execution_count": null,
      "id": "061c3ce1",
      "metadata": {
        "id": "061c3ce1",
        "outputId": "5e442555-8cd9-4227-9f17-1396a59fd458"
      },
      "outputs": [
        {
          "output_type": "execute_result",
          "data": {
            "text/plain": [
              "(10682, 25)"
            ]
          },
          "metadata": {},
          "execution_count": 38
        }
      ],
      "source": [
        "encoded_df.shape"
      ]
    },
    {
      "cell_type": "code",
      "execution_count": null,
      "id": "cd361764",
      "metadata": {
        "id": "cd361764",
        "outputId": "4b0981c0-0188-40e2-df8b-b9e3abec8512"
      },
      "outputs": [
        {
          "output_type": "execute_result",
          "data": {
            "text/plain": [
              "Index(['Duration', 'Total_Stops', 'month', 'day', 'Dep_Hour', 'Price',\n",
              "       'Airline_Air India', 'Airline_GoAir', 'Airline_IndiGo',\n",
              "       'Airline_Jet Airways', 'Airline_Jet Airways Business',\n",
              "       'Airline_Multiple carriers',\n",
              "       'Airline_Multiple carriers Premium economy', 'Airline_SpiceJet',\n",
              "       'Airline_Trujet', 'Airline_Vistara', 'Airline_Vistara Premium economy',\n",
              "       'Source_Chennai', 'Source_Delhi', 'Source_Kolkata', 'Source_Mumbai',\n",
              "       'Destination_Cochin', 'Destination_Delhi', 'Destination_Hyderabad',\n",
              "       'Destination_Kolkata'],\n",
              "      dtype='object')"
            ]
          },
          "metadata": {},
          "execution_count": 39
        }
      ],
      "source": [
        "encoded_df.columns"
      ]
    },
    {
      "cell_type": "code",
      "execution_count": null,
      "id": "3f2ac2f1",
      "metadata": {
        "id": "3f2ac2f1"
      },
      "outputs": [],
      "source": [
        "# Rearrangement of Columns \n",
        "encoded_df=encoded_df[['Duration', 'Total_Stops', 'month', 'day', 'Dep_Hour',\n",
        "       'Airline_Air India', 'Airline_GoAir', 'Airline_IndiGo',\n",
        "       'Airline_Jet Airways', 'Airline_Jet Airways Business',\n",
        "       'Airline_Multiple carriers',\n",
        "       'Airline_Multiple carriers Premium economy', 'Airline_SpiceJet',\n",
        "       'Airline_Trujet', 'Airline_Vistara', 'Airline_Vistara Premium economy',\n",
        "       'Source_Chennai', 'Source_Delhi', 'Source_Kolkata', 'Source_Mumbai',\n",
        "       'Destination_Cochin', 'Destination_Delhi', 'Destination_Hyderabad',\n",
        "       'Destination_Kolkata', 'Price']]"
      ]
    },
    {
      "cell_type": "code",
      "execution_count": null,
      "id": "6f5cdcba",
      "metadata": {
        "id": "6f5cdcba",
        "outputId": "b2d5f875-bd77-4093-9527-8ad0e200ce08"
      },
      "outputs": [
        {
          "output_type": "execute_result",
          "data": {
            "text/plain": [
              "(10682, 25)"
            ]
          },
          "metadata": {},
          "execution_count": 41
        }
      ],
      "source": [
        "e_df=pd.DataFrame(encoded_df)\n",
        "e_df.shape"
      ]
    },
    {
      "cell_type": "code",
      "execution_count": null,
      "id": "119da5f3",
      "metadata": {
        "id": "119da5f3"
      },
      "outputs": [],
      "source": [
        "#Splitting dataset into X and Y followed by X_test,X_train,y_test,y_train\n",
        "X=e_df.iloc[:,:-1].values\n",
        "y=e_df.iloc[:,-1].values"
      ]
    },
    {
      "cell_type": "code",
      "execution_count": null,
      "id": "3c77bb27",
      "metadata": {
        "id": "3c77bb27"
      },
      "outputs": [],
      "source": [
        "from sklearn.model_selection import train_test_split\n",
        "X_train, X_test, y_train, y_test = train_test_split(X, y, test_size = 0.2, random_state = 1)"
      ]
    },
    {
      "cell_type": "markdown",
      "id": "9508c291",
      "metadata": {
        "id": "9508c291"
      },
      "source": [
        "# Training and Testing of Regression Model"
      ]
    },
    {
      "cell_type": "markdown",
      "id": "23353974",
      "metadata": {
        "id": "23353974"
      },
      "source": [
        "### DecisionTreeClassifier"
      ]
    },
    {
      "cell_type": "code",
      "execution_count": null,
      "id": "72d6fd76",
      "metadata": {
        "id": "72d6fd76",
        "outputId": "3c038641-d97c-47b9-de34-b89983af1551"
      },
      "outputs": [
        {
          "output_type": "execute_result",
          "data": {
            "text/plain": [
              "DecisionTreeClassifier()"
            ]
          },
          "metadata": {},
          "execution_count": 44
        }
      ],
      "source": [
        "from sklearn.metrics import mean_squared_error\n",
        "from sklearn.tree import DecisionTreeClassifier\n",
        "regressor1=DecisionTreeClassifier()\n",
        "regressor1.fit(X_train,y_train)"
      ]
    },
    {
      "cell_type": "code",
      "execution_count": null,
      "id": "23948022",
      "metadata": {
        "id": "23948022",
        "outputId": "5d5bac67-9c00-4386-cdbf-0fa721bafd4a"
      },
      "outputs": [
        {
          "output_type": "execute_result",
          "data": {
            "text/plain": [
              "0.29761347683668693"
            ]
          },
          "metadata": {},
          "execution_count": 45
        }
      ],
      "source": [
        "regressor1.score(X_test,y_test)"
      ]
    },
    {
      "cell_type": "code",
      "execution_count": null,
      "id": "2a5e0868",
      "metadata": {
        "id": "2a5e0868"
      },
      "outputs": [],
      "source": [
        "preds1 = regressor1.predict(X_test)\n",
        "r1_score=mean_squared_error(y_test, preds1)"
      ]
    },
    {
      "cell_type": "code",
      "execution_count": null,
      "id": "86036786",
      "metadata": {
        "id": "86036786",
        "outputId": "5048bd50-526c-4d64-a2f1-f114cc9714fb"
      },
      "outputs": [
        {
          "output_type": "execute_result",
          "data": {
            "text/plain": [
              "8518200.388862891"
            ]
          },
          "metadata": {},
          "execution_count": 47
        }
      ],
      "source": [
        "r1_score"
      ]
    },
    {
      "cell_type": "markdown",
      "id": "743b72e9",
      "metadata": {
        "id": "743b72e9"
      },
      "source": [
        "### ExtraTreesRegressor"
      ]
    },
    {
      "cell_type": "code",
      "execution_count": null,
      "id": "cf4df205",
      "metadata": {
        "id": "cf4df205",
        "outputId": "f0793339-1dee-455d-ab4b-5e1f462d1bff"
      },
      "outputs": [
        {
          "output_type": "execute_result",
          "data": {
            "text/plain": [
              "ExtraTreesRegressor()"
            ]
          },
          "metadata": {},
          "execution_count": 48
        }
      ],
      "source": [
        "from sklearn.ensemble import ExtraTreesRegressor\n",
        "regressor2= ExtraTreesRegressor()\n",
        "regressor2.fit(X_train,y_train)"
      ]
    },
    {
      "cell_type": "code",
      "execution_count": null,
      "id": "4028a55d",
      "metadata": {
        "id": "4028a55d",
        "outputId": "b43369bb-bac7-4dee-93d2-9d6de2bd94ac"
      },
      "outputs": [
        {
          "output_type": "execute_result",
          "data": {
            "text/plain": [
              "0.7418433572191793"
            ]
          },
          "metadata": {},
          "execution_count": 49
        }
      ],
      "source": [
        "regressor2.score(X_test,y_test)"
      ]
    },
    {
      "cell_type": "code",
      "execution_count": null,
      "id": "18457481",
      "metadata": {
        "id": "18457481"
      },
      "outputs": [],
      "source": [
        "preds2 = regressor2.predict(X_test)\n",
        "r2_score=mean_squared_error(y_test, preds2)"
      ]
    },
    {
      "cell_type": "code",
      "execution_count": null,
      "id": "87c192e1",
      "metadata": {
        "id": "87c192e1",
        "outputId": "36143b04-503d-4620-c38a-3e3baa4bc22d"
      },
      "outputs": [
        {
          "output_type": "execute_result",
          "data": {
            "text/plain": [
              "5294970.977149526"
            ]
          },
          "metadata": {},
          "execution_count": 51
        }
      ],
      "source": [
        "r2_score"
      ]
    },
    {
      "cell_type": "markdown",
      "id": "a578817d",
      "metadata": {
        "id": "a578817d"
      },
      "source": [
        "### RandomForestRegressor"
      ]
    },
    {
      "cell_type": "code",
      "execution_count": null,
      "id": "8e57bd59",
      "metadata": {
        "id": "8e57bd59",
        "outputId": "125ec18e-be1b-4535-ed93-30d505f6dff4"
      },
      "outputs": [
        {
          "output_type": "execute_result",
          "data": {
            "text/plain": [
              "RandomForestRegressor()"
            ]
          },
          "metadata": {},
          "execution_count": 52
        }
      ],
      "source": [
        "from sklearn.ensemble import RandomForestRegressor\n",
        "regressor3= RandomForestRegressor()\n",
        "regressor3.fit(X_train,y_train)"
      ]
    },
    {
      "cell_type": "code",
      "execution_count": null,
      "id": "316238a1",
      "metadata": {
        "id": "316238a1",
        "outputId": "59801c1d-1908-465b-c3f3-e2492c8fc76e"
      },
      "outputs": [
        {
          "output_type": "execute_result",
          "data": {
            "text/plain": [
              "0.7914474936930852"
            ]
          },
          "metadata": {},
          "execution_count": 53
        }
      ],
      "source": [
        "regressor3.score(X_test,y_test)"
      ]
    },
    {
      "cell_type": "code",
      "execution_count": null,
      "id": "a1c44518",
      "metadata": {
        "id": "a1c44518"
      },
      "outputs": [],
      "source": [
        "preds3 = regressor3.predict(X_test)\n",
        "r3_score=mean_squared_error(y_test, preds3)"
      ]
    },
    {
      "cell_type": "code",
      "execution_count": null,
      "id": "e71288fc",
      "metadata": {
        "id": "e71288fc",
        "outputId": "b1961779-7801-473a-b38a-a16a2355031d"
      },
      "outputs": [
        {
          "output_type": "execute_result",
          "data": {
            "text/plain": [
              "4277555.890918751"
            ]
          },
          "metadata": {},
          "execution_count": 55
        }
      ],
      "source": [
        "r3_score"
      ]
    },
    {
      "cell_type": "markdown",
      "id": "22c4cf0e",
      "metadata": {
        "id": "22c4cf0e"
      },
      "source": [
        "### XGBRegressor"
      ]
    },
    {
      "cell_type": "code",
      "execution_count": null,
      "id": "2b436f91",
      "metadata": {
        "id": "2b436f91",
        "outputId": "5a084ea4-bb4a-42a5-fbef-fabe01600fca"
      },
      "outputs": [
        {
          "output_type": "execute_result",
          "data": {
            "text/plain": [
              "XGBRegressor(base_score=0.5, booster='gbtree', colsample_bylevel=1,\n",
              "             colsample_bynode=1, colsample_bytree=1, gamma=0, gpu_id=-1,\n",
              "             importance_type='gain', interaction_constraints='',\n",
              "             learning_rate=0.300000012, max_delta_step=0, max_depth=6,\n",
              "             min_child_weight=1, missing=nan, monotone_constraints='()',\n",
              "             n_estimators=100, n_jobs=8, num_parallel_tree=1, random_state=0,\n",
              "             reg_alpha=0, reg_lambda=1, scale_pos_weight=1, subsample=1,\n",
              "             tree_method='exact', validate_parameters=1, verbosity=None)"
            ]
          },
          "metadata": {},
          "execution_count": 56
        }
      ],
      "source": [
        "from xgboost import XGBRegressor\n",
        "regressor4 = XGBRegressor()\n",
        "regressor4.fit(X_train,y_train)"
      ]
    },
    {
      "cell_type": "code",
      "execution_count": null,
      "id": "947ab108",
      "metadata": {
        "id": "947ab108",
        "outputId": "2277c6bd-8636-4f55-ac46-0ccd43d69d72"
      },
      "outputs": [
        {
          "output_type": "execute_result",
          "data": {
            "text/plain": [
              "0.8300710926053367"
            ]
          },
          "metadata": {},
          "execution_count": 57
        }
      ],
      "source": [
        "regressor4.score(X_test,y_test)"
      ]
    },
    {
      "cell_type": "code",
      "execution_count": null,
      "id": "39787f45",
      "metadata": {
        "id": "39787f45"
      },
      "outputs": [],
      "source": [
        "preds4 = regressor4.predict(X_test)\n",
        "r4_score=mean_squared_error(y_test, preds4)"
      ]
    },
    {
      "cell_type": "code",
      "execution_count": null,
      "id": "0e78c710",
      "metadata": {
        "id": "0e78c710",
        "outputId": "4cb7ce99-b3d8-4cc0-fbe0-3974cf8a2202"
      },
      "outputs": [
        {
          "output_type": "execute_result",
          "data": {
            "text/plain": [
              "3485359.2111413917"
            ]
          },
          "metadata": {},
          "execution_count": 59
        }
      ],
      "source": [
        "r4_score"
      ]
    },
    {
      "cell_type": "markdown",
      "id": "8f2bd0d1",
      "metadata": {
        "id": "8f2bd0d1"
      },
      "source": [
        "### As observed from the score of various Regressors, we find that XGBRegressor gives the best score.\n",
        "### So we will be implementing XGBRegressor in our Web App which will be hosted using Heroku"
      ]
    },
    {
      "cell_type": "code",
      "execution_count": null,
      "id": "455d2a39",
      "metadata": {
        "id": "455d2a39",
        "outputId": "f986471c-6ad2-4dc2-d3d8-11eb8da722d6"
      },
      "outputs": [
        {
          "output_type": "execute_result",
          "data": {
            "text/plain": [
              "XGBRegressor(base_score=0.5, booster='gbtree', colsample_bylevel=1,\n",
              "             colsample_bynode=1, colsample_bytree=1, gamma=0, gpu_id=-1,\n",
              "             importance_type='gain', interaction_constraints='',\n",
              "             learning_rate=0.300000012, max_delta_step=0, max_depth=6,\n",
              "             min_child_weight=1, missing=nan, monotone_constraints='()',\n",
              "             n_estimators=100, n_jobs=8, num_parallel_tree=1, random_state=0,\n",
              "             reg_alpha=0, reg_lambda=1, scale_pos_weight=1, subsample=1,\n",
              "             tree_method='exact', validate_parameters=1, verbosity=None)"
            ]
          },
          "metadata": {},
          "execution_count": 60
        }
      ],
      "source": [
        "from xgboost import XGBRegressor\n",
        "model = XGBRegressor()\n",
        "model.fit(X,y)"
      ]
    },
    {
      "cell_type": "code",
      "execution_count": null,
      "id": "f3d2bae0",
      "metadata": {
        "id": "f3d2bae0"
      },
      "outputs": [],
      "source": [
        "import pickle\n",
        "filename = 'finalized_model.pkl'\n",
        "pickle.dump(model, open(filename, 'wb'))"
      ]
    },
    {
      "cell_type": "code",
      "execution_count": null,
      "id": "adc6176b",
      "metadata": {
        "id": "adc6176b",
        "outputId": "382ee414-a3e9-4865-8cb4-89ec16d2439b"
      },
      "outputs": [
        {
          "output_type": "stream",
          "name": "stdout",
          "text": [
            "0.9138419727179724\n"
          ]
        }
      ],
      "source": [
        "loaded_model = pickle.load(open(filename, 'rb'))\n",
        "result = loaded_model.score(X_test, y_test)\n",
        "print(result)"
      ]
    },
    {
      "cell_type": "markdown",
      "id": "e591dd70",
      "metadata": {
        "id": "e591dd70"
      },
      "source": [
        "## The final XGBRegressor model is saved as pickle file named- finalized_model.pkl"
      ]
    }
  ],
  "metadata": {
    "kernelspec": {
      "name": "python3",
      "display_name": "Python 3.8.8 64-bit ('anaconda3': virtualenv)"
    },
    "language_info": {
      "codemirror_mode": {
        "name": "ipython",
        "version": 3
      },
      "file_extension": ".py",
      "mimetype": "text/x-python",
      "name": "python",
      "nbconvert_exporter": "python",
      "pygments_lexer": "ipython3",
      "version": "3.8.8"
    },
    "interpreter": {
      "hash": "07421de7a3616dde25dc35e9352062d5bcf2cde7c25872e690c6e70aa7de459a"
    },
    "colab": {
      "name": "Air_fare_Code.ipynb",
      "provenance": [],
      "include_colab_link": true
    }
  },
  "nbformat": 4,
  "nbformat_minor": 5
}