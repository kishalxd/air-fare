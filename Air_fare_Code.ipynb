{
 "cells": [
  {
   "cell_type": "markdown",
   "id": "353a2f31",
   "metadata": {},
   "source": [
    "# Importing Libraries"
   ]
  },
  {
   "cell_type": "code",
   "execution_count": 1,
   "id": "5e0ac150",
   "metadata": {},
   "outputs": [],
   "source": [
    "import numpy as np\n",
    "import pandas as pd\n",
    "import matplotlib.pyplot as plt\n",
    "\n",
    "%matplotlib inline"
   ]
  },
  {
   "cell_type": "markdown",
   "id": "5564bdcb",
   "metadata": {},
   "source": [
    "# Importing DataSet"
   ]
  },
  {
   "cell_type": "code",
   "execution_count": 2,
   "id": "68426f12",
   "metadata": {},
   "outputs": [],
   "source": [
    "dataset=pd.read_excel(\"Data_Train.xlsx\")"
   ]
  },
  {
   "cell_type": "code",
   "execution_count": 3,
   "id": "fad8dd52",
   "metadata": {},
   "outputs": [],
   "source": [
    "df = pd.DataFrame(dataset)\n"
   ]
  },
  {
   "cell_type": "code",
   "execution_count": 4,
   "id": "c5db1193",
   "metadata": {},
   "outputs": [
    {
     "output_type": "execute_result",
     "data": {
      "text/plain": [
       "       Airline Date_of_Journey    Source Destination                  Route  \\\n",
       "0       IndiGo      24/03/2019  Banglore   New Delhi              BLR → DEL   \n",
       "1    Air India       1/05/2019   Kolkata    Banglore  CCU → IXR → BBI → BLR   \n",
       "2  Jet Airways       9/06/2019     Delhi      Cochin  DEL → LKO → BOM → COK   \n",
       "3       IndiGo      12/05/2019   Kolkata    Banglore        CCU → NAG → BLR   \n",
       "4       IndiGo      01/03/2019  Banglore   New Delhi        BLR → NAG → DEL   \n",
       "\n",
       "  Dep_Time  Arrival_Time Duration Total_Stops Additional_Info  Price  \n",
       "0    22:20  01:10 22 Mar   2h 50m    non-stop         No info   3897  \n",
       "1    05:50         13:15   7h 25m     2 stops         No info   7662  \n",
       "2    09:25  04:25 10 Jun      19h     2 stops         No info  13882  \n",
       "3    18:05         23:30   5h 25m      1 stop         No info   6218  \n",
       "4    16:50         21:35   4h 45m      1 stop         No info  13302  "
      ],
      "text/html": "<div>\n<style scoped>\n    .dataframe tbody tr th:only-of-type {\n        vertical-align: middle;\n    }\n\n    .dataframe tbody tr th {\n        vertical-align: top;\n    }\n\n    .dataframe thead th {\n        text-align: right;\n    }\n</style>\n<table border=\"1\" class=\"dataframe\">\n  <thead>\n    <tr style=\"text-align: right;\">\n      <th></th>\n      <th>Airline</th>\n      <th>Date_of_Journey</th>\n      <th>Source</th>\n      <th>Destination</th>\n      <th>Route</th>\n      <th>Dep_Time</th>\n      <th>Arrival_Time</th>\n      <th>Duration</th>\n      <th>Total_Stops</th>\n      <th>Additional_Info</th>\n      <th>Price</th>\n    </tr>\n  </thead>\n  <tbody>\n    <tr>\n      <th>0</th>\n      <td>IndiGo</td>\n      <td>24/03/2019</td>\n      <td>Banglore</td>\n      <td>New Delhi</td>\n      <td>BLR → DEL</td>\n      <td>22:20</td>\n      <td>01:10 22 Mar</td>\n      <td>2h 50m</td>\n      <td>non-stop</td>\n      <td>No info</td>\n      <td>3897</td>\n    </tr>\n    <tr>\n      <th>1</th>\n      <td>Air India</td>\n      <td>1/05/2019</td>\n      <td>Kolkata</td>\n      <td>Banglore</td>\n      <td>CCU → IXR → BBI → BLR</td>\n      <td>05:50</td>\n      <td>13:15</td>\n      <td>7h 25m</td>\n      <td>2 stops</td>\n      <td>No info</td>\n      <td>7662</td>\n    </tr>\n    <tr>\n      <th>2</th>\n      <td>Jet Airways</td>\n      <td>9/06/2019</td>\n      <td>Delhi</td>\n      <td>Cochin</td>\n      <td>DEL → LKO → BOM → COK</td>\n      <td>09:25</td>\n      <td>04:25 10 Jun</td>\n      <td>19h</td>\n      <td>2 stops</td>\n      <td>No info</td>\n      <td>13882</td>\n    </tr>\n    <tr>\n      <th>3</th>\n      <td>IndiGo</td>\n      <td>12/05/2019</td>\n      <td>Kolkata</td>\n      <td>Banglore</td>\n      <td>CCU → NAG → BLR</td>\n      <td>18:05</td>\n      <td>23:30</td>\n      <td>5h 25m</td>\n      <td>1 stop</td>\n      <td>No info</td>\n      <td>6218</td>\n    </tr>\n    <tr>\n      <th>4</th>\n      <td>IndiGo</td>\n      <td>01/03/2019</td>\n      <td>Banglore</td>\n      <td>New Delhi</td>\n      <td>BLR → NAG → DEL</td>\n      <td>16:50</td>\n      <td>21:35</td>\n      <td>4h 45m</td>\n      <td>1 stop</td>\n      <td>No info</td>\n      <td>13302</td>\n    </tr>\n  </tbody>\n</table>\n</div>"
     },
     "metadata": {},
     "execution_count": 4
    }
   ],
   "source": [
    "df.head()"
   ]
  },
  {
   "cell_type": "markdown",
   "id": "6e9577dc",
   "metadata": {},
   "source": [
    "# Data Preprocessing "
   ]
  },
  {
   "cell_type": "code",
   "execution_count": 5,
   "id": "b8523988",
   "metadata": {},
   "outputs": [
    {
     "output_type": "execute_result",
     "data": {
      "text/plain": [
       "(10683, 11)"
      ]
     },
     "metadata": {},
     "execution_count": 5
    }
   ],
   "source": [
    "df.shape"
   ]
  },
  {
   "cell_type": "code",
   "execution_count": 6,
   "id": "e808d9ce",
   "metadata": {},
   "outputs": [
    {
     "output_type": "execute_result",
     "data": {
      "text/plain": [
       "Airline            0\n",
       "Date_of_Journey    0\n",
       "Source             0\n",
       "Destination        0\n",
       "Route              1\n",
       "Dep_Time           0\n",
       "Arrival_Time       0\n",
       "Duration           0\n",
       "Total_Stops        1\n",
       "Additional_Info    0\n",
       "Price              0\n",
       "dtype: int64"
      ]
     },
     "metadata": {},
     "execution_count": 6
    }
   ],
   "source": [
    "df.isnull().sum()"
   ]
  },
  {
   "cell_type": "code",
   "execution_count": 7,
   "id": "8f641ad0",
   "metadata": {},
   "outputs": [],
   "source": [
    "#removing Null value rows\n",
    "dataset.dropna(inplace= True)\n",
    "df = pd.DataFrame(dataset)"
   ]
  },
  {
   "cell_type": "code",
   "execution_count": 8,
   "id": "f1fcc796",
   "metadata": {},
   "outputs": [
    {
     "output_type": "execute_result",
     "data": {
      "text/plain": [
       "No info                         8344\n",
       "In-flight meal not included     1982\n",
       "No check-in baggage included     320\n",
       "1 Long layover                    19\n",
       "Change airports                    7\n",
       "Business class                     4\n",
       "No Info                            3\n",
       "2 Long layover                     1\n",
       "1 Short layover                    1\n",
       "Red-eye flight                     1\n",
       "Name: Additional_Info, dtype: int64"
      ]
     },
     "metadata": {},
     "execution_count": 8
    }
   ],
   "source": [
    "df['Additional_Info'].value_counts()\n"
   ]
  },
  {
   "cell_type": "code",
   "execution_count": 9,
   "id": "c5d4d02b",
   "metadata": {},
   "outputs": [],
   "source": [
    "#removing Unnecessary columns\n",
    "df.drop(columns= [\"Additional_Info\"], inplace =True ,axis=1)\n",
    "df.drop(columns= [\"Route\"], inplace =True ,axis=1)"
   ]
  },
  {
   "cell_type": "code",
   "execution_count": 10,
   "id": "c5c308e7",
   "metadata": {},
   "outputs": [
    {
     "output_type": "execute_result",
     "data": {
      "text/plain": [
       "Index(['Airline', 'Date_of_Journey', 'Source', 'Destination', 'Dep_Time',\n",
       "       'Arrival_Time', 'Duration', 'Total_Stops', 'Price'],\n",
       "      dtype='object')"
      ]
     },
     "metadata": {},
     "execution_count": 10
    }
   ],
   "source": [
    "df.columns"
   ]
  },
  {
   "cell_type": "code",
   "execution_count": 11,
   "id": "a1ebb63d",
   "metadata": {},
   "outputs": [],
   "source": [
    "#Converting the Date_of_Journey column to datetime object followed by exctraction of date and month\n",
    "df['Date_of_Journey'] = pd.to_datetime(df['Date_of_Journey'])\n"
   ]
  },
  {
   "cell_type": "code",
   "execution_count": 12,
   "id": "d0f2a37c",
   "metadata": {},
   "outputs": [
    {
     "output_type": "stream",
     "name": "stdout",
     "text": [
      "datetime64[ns]\n"
     ]
    }
   ],
   "source": [
    "print (df['Date_of_Journey'].dtype)"
   ]
  },
  {
   "cell_type": "code",
   "execution_count": 13,
   "id": "b0d2e8ca",
   "metadata": {},
   "outputs": [],
   "source": [
    "df['month'] = df['Date_of_Journey'].dt.month\n",
    "df['day'] = df['Date_of_Journey'].dt.day\n",
    "df.drop(columns = {\"Date_of_Journey\"}, inplace= True, axis=1)\n",
    "df.drop(columns = {'Arrival_Time'}, inplace = True, axis=1)"
   ]
  },
  {
   "cell_type": "code",
   "execution_count": 14,
   "id": "12d01ee1",
   "metadata": {},
   "outputs": [
    {
     "output_type": "execute_result",
     "data": {
      "text/plain": [
       "       Airline    Source Destination Dep_Time Duration Total_Stops  Price  \\\n",
       "0       IndiGo  Banglore   New Delhi    22:20   2h 50m    non-stop   3897   \n",
       "1    Air India   Kolkata    Banglore    05:50   7h 25m     2 stops   7662   \n",
       "2  Jet Airways     Delhi      Cochin    09:25      19h     2 stops  13882   \n",
       "3       IndiGo   Kolkata    Banglore    18:05   5h 25m      1 stop   6218   \n",
       "4       IndiGo  Banglore   New Delhi    16:50   4h 45m      1 stop  13302   \n",
       "\n",
       "   month  day  \n",
       "0      3   24  \n",
       "1      1    5  \n",
       "2      9    6  \n",
       "3     12    5  \n",
       "4      1    3  "
      ],
      "text/html": "<div>\n<style scoped>\n    .dataframe tbody tr th:only-of-type {\n        vertical-align: middle;\n    }\n\n    .dataframe tbody tr th {\n        vertical-align: top;\n    }\n\n    .dataframe thead th {\n        text-align: right;\n    }\n</style>\n<table border=\"1\" class=\"dataframe\">\n  <thead>\n    <tr style=\"text-align: right;\">\n      <th></th>\n      <th>Airline</th>\n      <th>Source</th>\n      <th>Destination</th>\n      <th>Dep_Time</th>\n      <th>Duration</th>\n      <th>Total_Stops</th>\n      <th>Price</th>\n      <th>month</th>\n      <th>day</th>\n    </tr>\n  </thead>\n  <tbody>\n    <tr>\n      <th>0</th>\n      <td>IndiGo</td>\n      <td>Banglore</td>\n      <td>New Delhi</td>\n      <td>22:20</td>\n      <td>2h 50m</td>\n      <td>non-stop</td>\n      <td>3897</td>\n      <td>3</td>\n      <td>24</td>\n    </tr>\n    <tr>\n      <th>1</th>\n      <td>Air India</td>\n      <td>Kolkata</td>\n      <td>Banglore</td>\n      <td>05:50</td>\n      <td>7h 25m</td>\n      <td>2 stops</td>\n      <td>7662</td>\n      <td>1</td>\n      <td>5</td>\n    </tr>\n    <tr>\n      <th>2</th>\n      <td>Jet Airways</td>\n      <td>Delhi</td>\n      <td>Cochin</td>\n      <td>09:25</td>\n      <td>19h</td>\n      <td>2 stops</td>\n      <td>13882</td>\n      <td>9</td>\n      <td>6</td>\n    </tr>\n    <tr>\n      <th>3</th>\n      <td>IndiGo</td>\n      <td>Kolkata</td>\n      <td>Banglore</td>\n      <td>18:05</td>\n      <td>5h 25m</td>\n      <td>1 stop</td>\n      <td>6218</td>\n      <td>12</td>\n      <td>5</td>\n    </tr>\n    <tr>\n      <th>4</th>\n      <td>IndiGo</td>\n      <td>Banglore</td>\n      <td>New Delhi</td>\n      <td>16:50</td>\n      <td>4h 45m</td>\n      <td>1 stop</td>\n      <td>13302</td>\n      <td>1</td>\n      <td>3</td>\n    </tr>\n  </tbody>\n</table>\n</div>"
     },
     "metadata": {},
     "execution_count": 14
    }
   ],
   "source": [
    "df.head()"
   ]
  },
  {
   "cell_type": "code",
   "execution_count": 15,
   "id": "dd86d672",
   "metadata": {},
   "outputs": [
    {
     "output_type": "execute_result",
     "data": {
      "text/plain": [
       "1 stop      5625\n",
       "non-stop    3491\n",
       "2 stops     1520\n",
       "3 stops       45\n",
       "4 stops        1\n",
       "Name: Total_Stops, dtype: int64"
      ]
     },
     "metadata": {},
     "execution_count": 15
    }
   ],
   "source": [
    "df['Total_Stops'].value_counts()"
   ]
  },
  {
   "cell_type": "code",
   "execution_count": 16,
   "id": "6b7068f8",
   "metadata": {},
   "outputs": [],
   "source": [
    "# Replacing the Total_Stops columns to numeric data\n",
    "df['Total_Stops'] = df['Total_Stops'].replace(['non-stop'],'0')\n",
    "df['Total_Stops'] = df['Total_Stops'].replace(['1 stop'],'1')\n",
    "df['Total_Stops'] = df['Total_Stops'].replace(['2 stops'],'2')\n",
    "df['Total_Stops'] = df['Total_Stops'].replace(['3 stops'],'3')\n",
    "df['Total_Stops'] = df['Total_Stops'].replace(['4 stops'],'4')"
   ]
  },
  {
   "cell_type": "code",
   "execution_count": 17,
   "id": "9163b9a0",
   "metadata": {},
   "outputs": [
    {
     "output_type": "execute_result",
     "data": {
      "text/plain": [
       "       Airline    Source Destination Dep_Time Duration Total_Stops  Price  \\\n",
       "0       IndiGo  Banglore   New Delhi    22:20   2h 50m           0   3897   \n",
       "1    Air India   Kolkata    Banglore    05:50   7h 25m           2   7662   \n",
       "2  Jet Airways     Delhi      Cochin    09:25      19h           2  13882   \n",
       "3       IndiGo   Kolkata    Banglore    18:05   5h 25m           1   6218   \n",
       "4       IndiGo  Banglore   New Delhi    16:50   4h 45m           1  13302   \n",
       "\n",
       "   month  day  \n",
       "0      3   24  \n",
       "1      1    5  \n",
       "2      9    6  \n",
       "3     12    5  \n",
       "4      1    3  "
      ],
      "text/html": "<div>\n<style scoped>\n    .dataframe tbody tr th:only-of-type {\n        vertical-align: middle;\n    }\n\n    .dataframe tbody tr th {\n        vertical-align: top;\n    }\n\n    .dataframe thead th {\n        text-align: right;\n    }\n</style>\n<table border=\"1\" class=\"dataframe\">\n  <thead>\n    <tr style=\"text-align: right;\">\n      <th></th>\n      <th>Airline</th>\n      <th>Source</th>\n      <th>Destination</th>\n      <th>Dep_Time</th>\n      <th>Duration</th>\n      <th>Total_Stops</th>\n      <th>Price</th>\n      <th>month</th>\n      <th>day</th>\n    </tr>\n  </thead>\n  <tbody>\n    <tr>\n      <th>0</th>\n      <td>IndiGo</td>\n      <td>Banglore</td>\n      <td>New Delhi</td>\n      <td>22:20</td>\n      <td>2h 50m</td>\n      <td>0</td>\n      <td>3897</td>\n      <td>3</td>\n      <td>24</td>\n    </tr>\n    <tr>\n      <th>1</th>\n      <td>Air India</td>\n      <td>Kolkata</td>\n      <td>Banglore</td>\n      <td>05:50</td>\n      <td>7h 25m</td>\n      <td>2</td>\n      <td>7662</td>\n      <td>1</td>\n      <td>5</td>\n    </tr>\n    <tr>\n      <th>2</th>\n      <td>Jet Airways</td>\n      <td>Delhi</td>\n      <td>Cochin</td>\n      <td>09:25</td>\n      <td>19h</td>\n      <td>2</td>\n      <td>13882</td>\n      <td>9</td>\n      <td>6</td>\n    </tr>\n    <tr>\n      <th>3</th>\n      <td>IndiGo</td>\n      <td>Kolkata</td>\n      <td>Banglore</td>\n      <td>18:05</td>\n      <td>5h 25m</td>\n      <td>1</td>\n      <td>6218</td>\n      <td>12</td>\n      <td>5</td>\n    </tr>\n    <tr>\n      <th>4</th>\n      <td>IndiGo</td>\n      <td>Banglore</td>\n      <td>New Delhi</td>\n      <td>16:50</td>\n      <td>4h 45m</td>\n      <td>1</td>\n      <td>13302</td>\n      <td>1</td>\n      <td>3</td>\n    </tr>\n  </tbody>\n</table>\n</div>"
     },
     "metadata": {},
     "execution_count": 17
    }
   ],
   "source": [
    "df.head()"
   ]
  },
  {
   "cell_type": "code",
   "execution_count": 18,
   "id": "41eee813",
   "metadata": {},
   "outputs": [],
   "source": [
    "#Rounding off the Dep_Time Column to only hours\n",
    "time = pd.DatetimeIndex(df['Dep_Time'])"
   ]
  },
  {
   "cell_type": "code",
   "execution_count": 19,
   "id": "f78b262a",
   "metadata": {},
   "outputs": [],
   "source": [
    "mn=time.minute\n",
    "hr=time.hour"
   ]
  },
  {
   "cell_type": "code",
   "execution_count": 20,
   "id": "3a68e306",
   "metadata": {},
   "outputs": [],
   "source": [
    "k =0\n",
    "hour=([])\n",
    "for m in mn:\n",
    "    if m>=30:\n",
    "        x = 1 + hr[k]\n",
    "    else:\n",
    "        x=hr[k]\n",
    "    \n",
    "    if x>=24:\n",
    "        x=x-24\n",
    "    hour.append(x)\n",
    "    k +=1"
   ]
  },
  {
   "cell_type": "code",
   "execution_count": 21,
   "id": "2f2ef76c",
   "metadata": {},
   "outputs": [],
   "source": [
    "df['Dep_Hour']=hour\n",
    "df.drop(columns={\"Dep_Time\"}, inplace= True, axis=1)\n"
   ]
  },
  {
   "cell_type": "code",
   "execution_count": 22,
   "id": "02533cf5",
   "metadata": {},
   "outputs": [
    {
     "output_type": "execute_result",
     "data": {
      "text/plain": [
       "       Airline    Source Destination Duration Total_Stops  Price  month  day  \\\n",
       "0       IndiGo  Banglore   New Delhi   2h 50m           0   3897      3   24   \n",
       "1    Air India   Kolkata    Banglore   7h 25m           2   7662      1    5   \n",
       "2  Jet Airways     Delhi      Cochin      19h           2  13882      9    6   \n",
       "3       IndiGo   Kolkata    Banglore   5h 25m           1   6218     12    5   \n",
       "4       IndiGo  Banglore   New Delhi   4h 45m           1  13302      1    3   \n",
       "\n",
       "   Dep_Hour  \n",
       "0        22  \n",
       "1         6  \n",
       "2         9  \n",
       "3        18  \n",
       "4        17  "
      ],
      "text/html": "<div>\n<style scoped>\n    .dataframe tbody tr th:only-of-type {\n        vertical-align: middle;\n    }\n\n    .dataframe tbody tr th {\n        vertical-align: top;\n    }\n\n    .dataframe thead th {\n        text-align: right;\n    }\n</style>\n<table border=\"1\" class=\"dataframe\">\n  <thead>\n    <tr style=\"text-align: right;\">\n      <th></th>\n      <th>Airline</th>\n      <th>Source</th>\n      <th>Destination</th>\n      <th>Duration</th>\n      <th>Total_Stops</th>\n      <th>Price</th>\n      <th>month</th>\n      <th>day</th>\n      <th>Dep_Hour</th>\n    </tr>\n  </thead>\n  <tbody>\n    <tr>\n      <th>0</th>\n      <td>IndiGo</td>\n      <td>Banglore</td>\n      <td>New Delhi</td>\n      <td>2h 50m</td>\n      <td>0</td>\n      <td>3897</td>\n      <td>3</td>\n      <td>24</td>\n      <td>22</td>\n    </tr>\n    <tr>\n      <th>1</th>\n      <td>Air India</td>\n      <td>Kolkata</td>\n      <td>Banglore</td>\n      <td>7h 25m</td>\n      <td>2</td>\n      <td>7662</td>\n      <td>1</td>\n      <td>5</td>\n      <td>6</td>\n    </tr>\n    <tr>\n      <th>2</th>\n      <td>Jet Airways</td>\n      <td>Delhi</td>\n      <td>Cochin</td>\n      <td>19h</td>\n      <td>2</td>\n      <td>13882</td>\n      <td>9</td>\n      <td>6</td>\n      <td>9</td>\n    </tr>\n    <tr>\n      <th>3</th>\n      <td>IndiGo</td>\n      <td>Kolkata</td>\n      <td>Banglore</td>\n      <td>5h 25m</td>\n      <td>1</td>\n      <td>6218</td>\n      <td>12</td>\n      <td>5</td>\n      <td>18</td>\n    </tr>\n    <tr>\n      <th>4</th>\n      <td>IndiGo</td>\n      <td>Banglore</td>\n      <td>New Delhi</td>\n      <td>4h 45m</td>\n      <td>1</td>\n      <td>13302</td>\n      <td>1</td>\n      <td>3</td>\n      <td>17</td>\n    </tr>\n  </tbody>\n</table>\n</div>"
     },
     "metadata": {},
     "execution_count": 22
    }
   ],
   "source": [
    "df.head()"
   ]
  },
  {
   "cell_type": "code",
   "execution_count": 23,
   "id": "5e61a3b2",
   "metadata": {},
   "outputs": [],
   "source": [
    "duration=df[\"Duration\"]\n",
    "duration = list(duration)\n",
    "for i in range(len(duration)):\n",
    "  if (len(duration[i].split()) !=2):\n",
    "    if \"h\" in duration[i]:\n",
    "      duration[i]=duration[i]+ \" 0m\"\n",
    "    else:\n",
    "      duration[i]= \"0h \"+ duration[i]\n",
    "\n"
   ]
  },
  {
   "cell_type": "code",
   "execution_count": 24,
   "id": "9985eca1",
   "metadata": {},
   "outputs": [],
   "source": [
    "#extracting the duration in hours and mins and converting it to floating value of hours\n",
    "duration_hours=[]\n",
    "duration_mins=[]\n",
    "\n",
    "for i in range(len(duration)):\n",
    "  duration_hours.append(duration[i].split(sep='h')[0])\n",
    "  duration_mins.append(duration[i].split(sep=' ')[-1].split(sep='m')[0])\n",
    "\n"
   ]
  },
  {
   "cell_type": "code",
   "execution_count": 25,
   "id": "cd09083c",
   "metadata": {},
   "outputs": [],
   "source": [
    "k=0\n",
    "x=[None]*len(duration_hours)\n",
    "for hr in duration_hours:\n",
    "    x[k]=(int(hr)*60+int(duration_mins[k]))\n",
    "    k=k+1"
   ]
  },
  {
   "cell_type": "code",
   "execution_count": 26,
   "id": "a01b41d2",
   "metadata": {},
   "outputs": [],
   "source": [
    "df['Duration']=x"
   ]
  },
  {
   "cell_type": "code",
   "execution_count": 27,
   "id": "48723864",
   "metadata": {},
   "outputs": [
    {
     "output_type": "execute_result",
     "data": {
      "text/plain": [
       "       Airline    Source Destination  Duration Total_Stops  Price  month  day  \\\n",
       "0       IndiGo  Banglore   New Delhi       170           0   3897      3   24   \n",
       "1    Air India   Kolkata    Banglore       445           2   7662      1    5   \n",
       "2  Jet Airways     Delhi      Cochin      1140           2  13882      9    6   \n",
       "3       IndiGo   Kolkata    Banglore       325           1   6218     12    5   \n",
       "4       IndiGo  Banglore   New Delhi       285           1  13302      1    3   \n",
       "\n",
       "   Dep_Hour  \n",
       "0        22  \n",
       "1         6  \n",
       "2         9  \n",
       "3        18  \n",
       "4        17  "
      ],
      "text/html": "<div>\n<style scoped>\n    .dataframe tbody tr th:only-of-type {\n        vertical-align: middle;\n    }\n\n    .dataframe tbody tr th {\n        vertical-align: top;\n    }\n\n    .dataframe thead th {\n        text-align: right;\n    }\n</style>\n<table border=\"1\" class=\"dataframe\">\n  <thead>\n    <tr style=\"text-align: right;\">\n      <th></th>\n      <th>Airline</th>\n      <th>Source</th>\n      <th>Destination</th>\n      <th>Duration</th>\n      <th>Total_Stops</th>\n      <th>Price</th>\n      <th>month</th>\n      <th>day</th>\n      <th>Dep_Hour</th>\n    </tr>\n  </thead>\n  <tbody>\n    <tr>\n      <th>0</th>\n      <td>IndiGo</td>\n      <td>Banglore</td>\n      <td>New Delhi</td>\n      <td>170</td>\n      <td>0</td>\n      <td>3897</td>\n      <td>3</td>\n      <td>24</td>\n      <td>22</td>\n    </tr>\n    <tr>\n      <th>1</th>\n      <td>Air India</td>\n      <td>Kolkata</td>\n      <td>Banglore</td>\n      <td>445</td>\n      <td>2</td>\n      <td>7662</td>\n      <td>1</td>\n      <td>5</td>\n      <td>6</td>\n    </tr>\n    <tr>\n      <th>2</th>\n      <td>Jet Airways</td>\n      <td>Delhi</td>\n      <td>Cochin</td>\n      <td>1140</td>\n      <td>2</td>\n      <td>13882</td>\n      <td>9</td>\n      <td>6</td>\n      <td>9</td>\n    </tr>\n    <tr>\n      <th>3</th>\n      <td>IndiGo</td>\n      <td>Kolkata</td>\n      <td>Banglore</td>\n      <td>325</td>\n      <td>1</td>\n      <td>6218</td>\n      <td>12</td>\n      <td>5</td>\n      <td>18</td>\n    </tr>\n    <tr>\n      <th>4</th>\n      <td>IndiGo</td>\n      <td>Banglore</td>\n      <td>New Delhi</td>\n      <td>285</td>\n      <td>1</td>\n      <td>13302</td>\n      <td>1</td>\n      <td>3</td>\n      <td>17</td>\n    </tr>\n  </tbody>\n</table>\n</div>"
     },
     "metadata": {},
     "execution_count": 27
    }
   ],
   "source": [
    "df.head()"
   ]
  },
  {
   "cell_type": "code",
   "execution_count": 28,
   "id": "fbd06bda",
   "metadata": {},
   "outputs": [
    {
     "output_type": "stream",
     "name": "stdout",
     "text": [
      "['Airline', 'Source', 'Destination', 'Duration', 'Total_Stops', 'Price', 'month', 'day', 'Dep_Hour']\n"
     ]
    }
   ],
   "source": [
    "print(df.columns.tolist())"
   ]
  },
  {
   "cell_type": "code",
   "execution_count": 29,
   "id": "da2fe139",
   "metadata": {},
   "outputs": [],
   "source": [
    "# Reaggangement of Columns\n",
    "df=df[['Airline', 'Source', 'Destination', 'Duration', 'Total_Stops', 'month', 'day', 'Dep_Hour', 'Price']]"
   ]
  },
  {
   "cell_type": "code",
   "execution_count": 30,
   "id": "5ebe673e",
   "metadata": {},
   "outputs": [
    {
     "output_type": "execute_result",
     "data": {
      "text/plain": [
       "       Airline    Source Destination  Duration Total_Stops  month  day  \\\n",
       "0       IndiGo  Banglore   New Delhi       170           0      3   24   \n",
       "1    Air India   Kolkata    Banglore       445           2      1    5   \n",
       "2  Jet Airways     Delhi      Cochin      1140           2      9    6   \n",
       "3       IndiGo   Kolkata    Banglore       325           1     12    5   \n",
       "4       IndiGo  Banglore   New Delhi       285           1      1    3   \n",
       "\n",
       "   Dep_Hour  Price  \n",
       "0        22   3897  \n",
       "1         6   7662  \n",
       "2         9  13882  \n",
       "3        18   6218  \n",
       "4        17  13302  "
      ],
      "text/html": "<div>\n<style scoped>\n    .dataframe tbody tr th:only-of-type {\n        vertical-align: middle;\n    }\n\n    .dataframe tbody tr th {\n        vertical-align: top;\n    }\n\n    .dataframe thead th {\n        text-align: right;\n    }\n</style>\n<table border=\"1\" class=\"dataframe\">\n  <thead>\n    <tr style=\"text-align: right;\">\n      <th></th>\n      <th>Airline</th>\n      <th>Source</th>\n      <th>Destination</th>\n      <th>Duration</th>\n      <th>Total_Stops</th>\n      <th>month</th>\n      <th>day</th>\n      <th>Dep_Hour</th>\n      <th>Price</th>\n    </tr>\n  </thead>\n  <tbody>\n    <tr>\n      <th>0</th>\n      <td>IndiGo</td>\n      <td>Banglore</td>\n      <td>New Delhi</td>\n      <td>170</td>\n      <td>0</td>\n      <td>3</td>\n      <td>24</td>\n      <td>22</td>\n      <td>3897</td>\n    </tr>\n    <tr>\n      <th>1</th>\n      <td>Air India</td>\n      <td>Kolkata</td>\n      <td>Banglore</td>\n      <td>445</td>\n      <td>2</td>\n      <td>1</td>\n      <td>5</td>\n      <td>6</td>\n      <td>7662</td>\n    </tr>\n    <tr>\n      <th>2</th>\n      <td>Jet Airways</td>\n      <td>Delhi</td>\n      <td>Cochin</td>\n      <td>1140</td>\n      <td>2</td>\n      <td>9</td>\n      <td>6</td>\n      <td>9</td>\n      <td>13882</td>\n    </tr>\n    <tr>\n      <th>3</th>\n      <td>IndiGo</td>\n      <td>Kolkata</td>\n      <td>Banglore</td>\n      <td>325</td>\n      <td>1</td>\n      <td>12</td>\n      <td>5</td>\n      <td>18</td>\n      <td>6218</td>\n    </tr>\n    <tr>\n      <th>4</th>\n      <td>IndiGo</td>\n      <td>Banglore</td>\n      <td>New Delhi</td>\n      <td>285</td>\n      <td>1</td>\n      <td>1</td>\n      <td>3</td>\n      <td>17</td>\n      <td>13302</td>\n    </tr>\n  </tbody>\n</table>\n</div>"
     },
     "metadata": {},
     "execution_count": 30
    }
   ],
   "source": [
    "df.head()"
   ]
  },
  {
   "cell_type": "code",
   "execution_count": 31,
   "id": "3dc78803",
   "metadata": {},
   "outputs": [
    {
     "output_type": "execute_result",
     "data": {
      "text/plain": [
       "Jet Airways                          3849\n",
       "IndiGo                               2053\n",
       "Air India                            1751\n",
       "Multiple carriers                    1196\n",
       "SpiceJet                              818\n",
       "Vistara                               479\n",
       "Air Asia                              319\n",
       "GoAir                                 194\n",
       "Multiple carriers Premium economy      13\n",
       "Jet Airways Business                    6\n",
       "Vistara Premium economy                 3\n",
       "Trujet                                  1\n",
       "Name: Airline, dtype: int64"
      ]
     },
     "metadata": {},
     "execution_count": 31
    }
   ],
   "source": [
    "df['Airline'].value_counts()"
   ]
  },
  {
   "cell_type": "code",
   "execution_count": 32,
   "id": "737a5679",
   "metadata": {},
   "outputs": [
    {
     "output_type": "execute_result",
     "data": {
      "text/plain": [
       "Delhi       4536\n",
       "Kolkata     2871\n",
       "Banglore    2197\n",
       "Mumbai       697\n",
       "Chennai      381\n",
       "Name: Source, dtype: int64"
      ]
     },
     "metadata": {},
     "execution_count": 32
    }
   ],
   "source": [
    "df['Source'].value_counts()"
   ]
  },
  {
   "cell_type": "code",
   "execution_count": 33,
   "id": "a10070af",
   "metadata": {},
   "outputs": [
    {
     "output_type": "execute_result",
     "data": {
      "text/plain": [
       "Cochin       4536\n",
       "Banglore     2871\n",
       "Delhi        1265\n",
       "New Delhi     932\n",
       "Hyderabad     697\n",
       "Kolkata       381\n",
       "Name: Destination, dtype: int64"
      ]
     },
     "metadata": {},
     "execution_count": 33
    }
   ],
   "source": [
    "df['Destination'].value_counts()"
   ]
  },
  {
   "cell_type": "code",
   "execution_count": 34,
   "id": "c163250e",
   "metadata": {},
   "outputs": [
    {
     "output_type": "execute_result",
     "data": {
      "text/plain": [
       "(10682, 9)"
      ]
     },
     "metadata": {},
     "execution_count": 34
    }
   ],
   "source": [
    "df.shape"
   ]
  },
  {
   "cell_type": "code",
   "execution_count": 35,
   "id": "e502c3df",
   "metadata": {},
   "outputs": [],
   "source": [
    "df['Destination'] = df['Destination'].replace(['New Delhi'],'Delhi')"
   ]
  },
  {
   "cell_type": "code",
   "execution_count": 36,
   "id": "00e3d65f",
   "metadata": {},
   "outputs": [
    {
     "output_type": "execute_result",
     "data": {
      "text/plain": [
       "Cochin       4536\n",
       "Banglore     2871\n",
       "Delhi        2197\n",
       "Hyderabad     697\n",
       "Kolkata       381\n",
       "Name: Destination, dtype: int64"
      ]
     },
     "metadata": {},
     "execution_count": 36
    }
   ],
   "source": [
    "df['Destination'].value_counts()"
   ]
  },
  {
   "cell_type": "code",
   "execution_count": 37,
   "id": "8f3c878a",
   "metadata": {},
   "outputs": [],
   "source": [
    "#Applying One hot encoding on columns=[\"Airline\", \"Source\", \"Destination\"]\n",
    "encoded_df=pd.get_dummies(data=df, columns=[\"Airline\", \"Source\", \"Destination\"], drop_first=True)"
   ]
  },
  {
   "cell_type": "code",
   "execution_count": null,
   "metadata": {},
   "outputs": [],
   "source": []
  },
  {
   "cell_type": "code",
   "execution_count": 38,
   "id": "061c3ce1",
   "metadata": {},
   "outputs": [
    {
     "output_type": "execute_result",
     "data": {
      "text/plain": [
       "(10682, 25)"
      ]
     },
     "metadata": {},
     "execution_count": 38
    }
   ],
   "source": [
    "encoded_df.shape"
   ]
  },
  {
   "cell_type": "code",
   "execution_count": 39,
   "id": "cd361764",
   "metadata": {},
   "outputs": [
    {
     "output_type": "execute_result",
     "data": {
      "text/plain": [
       "Index(['Duration', 'Total_Stops', 'month', 'day', 'Dep_Hour', 'Price',\n",
       "       'Airline_Air India', 'Airline_GoAir', 'Airline_IndiGo',\n",
       "       'Airline_Jet Airways', 'Airline_Jet Airways Business',\n",
       "       'Airline_Multiple carriers',\n",
       "       'Airline_Multiple carriers Premium economy', 'Airline_SpiceJet',\n",
       "       'Airline_Trujet', 'Airline_Vistara', 'Airline_Vistara Premium economy',\n",
       "       'Source_Chennai', 'Source_Delhi', 'Source_Kolkata', 'Source_Mumbai',\n",
       "       'Destination_Cochin', 'Destination_Delhi', 'Destination_Hyderabad',\n",
       "       'Destination_Kolkata'],\n",
       "      dtype='object')"
      ]
     },
     "metadata": {},
     "execution_count": 39
    }
   ],
   "source": [
    "encoded_df.columns"
   ]
  },
  {
   "cell_type": "code",
   "execution_count": 40,
   "id": "3f2ac2f1",
   "metadata": {},
   "outputs": [],
   "source": [
    "# Rearrangement of Columns \n",
    "encoded_df=encoded_df[['Duration', 'Total_Stops', 'month', 'day', 'Dep_Hour',\n",
    "       'Airline_Air India', 'Airline_GoAir', 'Airline_IndiGo',\n",
    "       'Airline_Jet Airways', 'Airline_Jet Airways Business',\n",
    "       'Airline_Multiple carriers',\n",
    "       'Airline_Multiple carriers Premium economy', 'Airline_SpiceJet',\n",
    "       'Airline_Trujet', 'Airline_Vistara', 'Airline_Vistara Premium economy',\n",
    "       'Source_Chennai', 'Source_Delhi', 'Source_Kolkata', 'Source_Mumbai',\n",
    "       'Destination_Cochin', 'Destination_Delhi', 'Destination_Hyderabad',\n",
    "       'Destination_Kolkata', 'Price']]"
   ]
  },
  {
   "cell_type": "code",
   "execution_count": 41,
   "id": "6f5cdcba",
   "metadata": {},
   "outputs": [
    {
     "output_type": "execute_result",
     "data": {
      "text/plain": [
       "(10682, 25)"
      ]
     },
     "metadata": {},
     "execution_count": 41
    }
   ],
   "source": [
    "e_df=pd.DataFrame(encoded_df)\n",
    "e_df.shape"
   ]
  },
  {
   "cell_type": "code",
   "execution_count": 42,
   "id": "119da5f3",
   "metadata": {},
   "outputs": [],
   "source": [
    "#Splitting dataset into X and Y followed by X_test,X_train,y_test,y_train\n",
    "X=e_df.iloc[:,:-1].values\n",
    "y=e_df.iloc[:,-1].values"
   ]
  },
  {
   "cell_type": "code",
   "execution_count": 43,
   "id": "3c77bb27",
   "metadata": {},
   "outputs": [],
   "source": [
    "from sklearn.model_selection import train_test_split\n",
    "X_train, X_test, y_train, y_test = train_test_split(X, y, test_size = 0.2, random_state = 1)"
   ]
  },
  {
   "cell_type": "markdown",
   "id": "9508c291",
   "metadata": {},
   "source": [
    "# Training and Testing of Regression Model"
   ]
  },
  {
   "cell_type": "markdown",
   "id": "23353974",
   "metadata": {},
   "source": [
    "### DecisionTreeClassifier"
   ]
  },
  {
   "cell_type": "code",
   "execution_count": 44,
   "id": "72d6fd76",
   "metadata": {},
   "outputs": [
    {
     "output_type": "execute_result",
     "data": {
      "text/plain": [
       "DecisionTreeClassifier()"
      ]
     },
     "metadata": {},
     "execution_count": 44
    }
   ],
   "source": [
    "from sklearn.metrics import mean_squared_error\n",
    "from sklearn.tree import DecisionTreeClassifier\n",
    "regressor1=DecisionTreeClassifier()\n",
    "regressor1.fit(X_train,y_train)"
   ]
  },
  {
   "cell_type": "code",
   "execution_count": 45,
   "id": "23948022",
   "metadata": {},
   "outputs": [
    {
     "output_type": "execute_result",
     "data": {
      "text/plain": [
       "0.29761347683668693"
      ]
     },
     "metadata": {},
     "execution_count": 45
    }
   ],
   "source": [
    "regressor1.score(X_test,y_test)"
   ]
  },
  {
   "cell_type": "code",
   "execution_count": 46,
   "id": "2a5e0868",
   "metadata": {},
   "outputs": [],
   "source": [
    "preds1 = regressor1.predict(X_test)\n",
    "r1_score=mean_squared_error(y_test, preds1)"
   ]
  },
  {
   "cell_type": "code",
   "execution_count": 47,
   "id": "86036786",
   "metadata": {},
   "outputs": [
    {
     "output_type": "execute_result",
     "data": {
      "text/plain": [
       "8518200.388862891"
      ]
     },
     "metadata": {},
     "execution_count": 47
    }
   ],
   "source": [
    "r1_score"
   ]
  },
  {
   "cell_type": "markdown",
   "id": "743b72e9",
   "metadata": {},
   "source": [
    "### ExtraTreesRegressor"
   ]
  },
  {
   "cell_type": "code",
   "execution_count": 48,
   "id": "cf4df205",
   "metadata": {},
   "outputs": [
    {
     "output_type": "execute_result",
     "data": {
      "text/plain": [
       "ExtraTreesRegressor()"
      ]
     },
     "metadata": {},
     "execution_count": 48
    }
   ],
   "source": [
    "from sklearn.ensemble import ExtraTreesRegressor\n",
    "regressor2= ExtraTreesRegressor()\n",
    "regressor2.fit(X_train,y_train)"
   ]
  },
  {
   "cell_type": "code",
   "execution_count": 49,
   "id": "4028a55d",
   "metadata": {},
   "outputs": [
    {
     "output_type": "execute_result",
     "data": {
      "text/plain": [
       "0.7418433572191793"
      ]
     },
     "metadata": {},
     "execution_count": 49
    }
   ],
   "source": [
    "regressor2.score(X_test,y_test)"
   ]
  },
  {
   "cell_type": "code",
   "execution_count": 50,
   "id": "18457481",
   "metadata": {},
   "outputs": [],
   "source": [
    "preds2 = regressor2.predict(X_test)\n",
    "r2_score=mean_squared_error(y_test, preds2)"
   ]
  },
  {
   "cell_type": "code",
   "execution_count": 51,
   "id": "87c192e1",
   "metadata": {},
   "outputs": [
    {
     "output_type": "execute_result",
     "data": {
      "text/plain": [
       "5294970.977149526"
      ]
     },
     "metadata": {},
     "execution_count": 51
    }
   ],
   "source": [
    "r2_score"
   ]
  },
  {
   "cell_type": "markdown",
   "id": "a578817d",
   "metadata": {},
   "source": [
    "### RandomForestRegressor"
   ]
  },
  {
   "cell_type": "code",
   "execution_count": 52,
   "id": "8e57bd59",
   "metadata": {},
   "outputs": [
    {
     "output_type": "execute_result",
     "data": {
      "text/plain": [
       "RandomForestRegressor()"
      ]
     },
     "metadata": {},
     "execution_count": 52
    }
   ],
   "source": [
    "from sklearn.ensemble import RandomForestRegressor\n",
    "regressor3= RandomForestRegressor()\n",
    "regressor3.fit(X_train,y_train)"
   ]
  },
  {
   "cell_type": "code",
   "execution_count": 53,
   "id": "316238a1",
   "metadata": {},
   "outputs": [
    {
     "output_type": "execute_result",
     "data": {
      "text/plain": [
       "0.7914474936930852"
      ]
     },
     "metadata": {},
     "execution_count": 53
    }
   ],
   "source": [
    "regressor3.score(X_test,y_test)"
   ]
  },
  {
   "cell_type": "code",
   "execution_count": 54,
   "id": "a1c44518",
   "metadata": {},
   "outputs": [],
   "source": [
    "preds3 = regressor3.predict(X_test)\n",
    "r3_score=mean_squared_error(y_test, preds3)"
   ]
  },
  {
   "cell_type": "code",
   "execution_count": 55,
   "id": "e71288fc",
   "metadata": {},
   "outputs": [
    {
     "output_type": "execute_result",
     "data": {
      "text/plain": [
       "4277555.890918751"
      ]
     },
     "metadata": {},
     "execution_count": 55
    }
   ],
   "source": [
    "r3_score"
   ]
  },
  {
   "cell_type": "markdown",
   "id": "22c4cf0e",
   "metadata": {},
   "source": [
    "### XGBRegressor"
   ]
  },
  {
   "cell_type": "code",
   "execution_count": 56,
   "id": "2b436f91",
   "metadata": {},
   "outputs": [
    {
     "output_type": "execute_result",
     "data": {
      "text/plain": [
       "XGBRegressor(base_score=0.5, booster='gbtree', colsample_bylevel=1,\n",
       "             colsample_bynode=1, colsample_bytree=1, gamma=0, gpu_id=-1,\n",
       "             importance_type='gain', interaction_constraints='',\n",
       "             learning_rate=0.300000012, max_delta_step=0, max_depth=6,\n",
       "             min_child_weight=1, missing=nan, monotone_constraints='()',\n",
       "             n_estimators=100, n_jobs=8, num_parallel_tree=1, random_state=0,\n",
       "             reg_alpha=0, reg_lambda=1, scale_pos_weight=1, subsample=1,\n",
       "             tree_method='exact', validate_parameters=1, verbosity=None)"
      ]
     },
     "metadata": {},
     "execution_count": 56
    }
   ],
   "source": [
    "from xgboost import XGBRegressor\n",
    "regressor4 = XGBRegressor()\n",
    "regressor4.fit(X_train,y_train)"
   ]
  },
  {
   "cell_type": "code",
   "execution_count": 57,
   "id": "947ab108",
   "metadata": {},
   "outputs": [
    {
     "output_type": "execute_result",
     "data": {
      "text/plain": [
       "0.8300710926053367"
      ]
     },
     "metadata": {},
     "execution_count": 57
    }
   ],
   "source": [
    "regressor4.score(X_test,y_test)"
   ]
  },
  {
   "cell_type": "code",
   "execution_count": 58,
   "id": "39787f45",
   "metadata": {},
   "outputs": [],
   "source": [
    "preds4 = regressor4.predict(X_test)\n",
    "r4_score=mean_squared_error(y_test, preds4)"
   ]
  },
  {
   "cell_type": "code",
   "execution_count": 59,
   "id": "0e78c710",
   "metadata": {},
   "outputs": [
    {
     "output_type": "execute_result",
     "data": {
      "text/plain": [
       "3485359.2111413917"
      ]
     },
     "metadata": {},
     "execution_count": 59
    }
   ],
   "source": [
    "r4_score"
   ]
  },
  {
   "cell_type": "markdown",
   "id": "8f2bd0d1",
   "metadata": {},
   "source": [
    "### As observed from the score of various Regressors, we find that XGBRegressor gives the best score.\n",
    "### So we will be implementing XGBRegressor in our Web App which will be hosted using Heroku"
   ]
  },
  {
   "cell_type": "code",
   "execution_count": 60,
   "id": "455d2a39",
   "metadata": {},
   "outputs": [
    {
     "output_type": "execute_result",
     "data": {
      "text/plain": [
       "XGBRegressor(base_score=0.5, booster='gbtree', colsample_bylevel=1,\n",
       "             colsample_bynode=1, colsample_bytree=1, gamma=0, gpu_id=-1,\n",
       "             importance_type='gain', interaction_constraints='',\n",
       "             learning_rate=0.300000012, max_delta_step=0, max_depth=6,\n",
       "             min_child_weight=1, missing=nan, monotone_constraints='()',\n",
       "             n_estimators=100, n_jobs=8, num_parallel_tree=1, random_state=0,\n",
       "             reg_alpha=0, reg_lambda=1, scale_pos_weight=1, subsample=1,\n",
       "             tree_method='exact', validate_parameters=1, verbosity=None)"
      ]
     },
     "metadata": {},
     "execution_count": 60
    }
   ],
   "source": [
    "from xgboost import XGBRegressor\n",
    "model = XGBRegressor()\n",
    "model.fit(X,y)"
   ]
  },
  {
   "cell_type": "code",
   "execution_count": 61,
   "id": "f3d2bae0",
   "metadata": {},
   "outputs": [],
   "source": [
    "import pickle\n",
    "filename = 'finalized_model.pkl'\n",
    "pickle.dump(model, open(filename, 'wb'))"
   ]
  },
  {
   "cell_type": "code",
   "execution_count": 62,
   "id": "adc6176b",
   "metadata": {},
   "outputs": [
    {
     "output_type": "stream",
     "name": "stdout",
     "text": [
      "0.9138419727179724\n"
     ]
    }
   ],
   "source": [
    "loaded_model = pickle.load(open(filename, 'rb'))\n",
    "result = loaded_model.score(X_test, y_test)\n",
    "print(result)"
   ]
  },
  {
   "cell_type": "markdown",
   "id": "e591dd70",
   "metadata": {},
   "source": [
    "## The final XGBRegressor model is saved as pickle file named- finalized_model.pkl"
   ]
  }
 ],
 "metadata": {
  "kernelspec": {
   "name": "python3",
   "display_name": "Python 3.8.8 64-bit ('anaconda3': virtualenv)"
  },
  "language_info": {
   "codemirror_mode": {
    "name": "ipython",
    "version": 3
   },
   "file_extension": ".py",
   "mimetype": "text/x-python",
   "name": "python",
   "nbconvert_exporter": "python",
   "pygments_lexer": "ipython3",
   "version": "3.8.8"
  },
  "interpreter": {
   "hash": "07421de7a3616dde25dc35e9352062d5bcf2cde7c25872e690c6e70aa7de459a"
  }
 },
 "nbformat": 4,
 "nbformat_minor": 5
}